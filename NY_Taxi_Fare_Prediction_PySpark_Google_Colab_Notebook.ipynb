{
  "nbformat": 4,
  "nbformat_minor": 0,
  "metadata": {
    "colab": {
      "name": "Untitled9.ipynb",
      "provenance": [],
      "collapsed_sections": [],
      "authorship_tag": "ABX9TyO6rdXj4sijlwKgyenEqaTb",
      "include_colab_link": true
    },
    "kernelspec": {
      "name": "python3",
      "display_name": "Python 3"
    },
    "language_info": {
      "name": "python"
    }
  },
  "cells": [
    {
      "cell_type": "markdown",
      "metadata": {
        "id": "view-in-github",
        "colab_type": "text"
      },
      "source": [
        "<a href=\"https://colab.research.google.com/github/ibrahimba9/New_York_Taxi_Trips/blob/main/NY_Taxi_Fare_Prediction_PySpark_Google_Colab_Notebook.ipynb\" target=\"_parent\"><img src=\"https://colab.research.google.com/assets/colab-badge.svg\" alt=\"Open In Colab\"/></a>"
      ]
    },
    {
      "cell_type": "code",
      "metadata": {
        "id": "STD6pl_8oeHO"
      },
      "source": [
        "# got to kaggele > profile > account > scroll down > click exprire api token > click on create new api token"
      ],
      "execution_count": null,
      "outputs": []
    },
    {
      "cell_type": "code",
      "metadata": {
        "id": "yJQM5AYLlGza"
      },
      "source": [
        "! pip install -q kaggle"
      ],
      "execution_count": 2,
      "outputs": []
    },
    {
      "cell_type": "code",
      "metadata": {
        "id": "n2ozNAEEm3HK"
      },
      "source": [
        "from google.colab import files"
      ],
      "execution_count": 3,
      "outputs": []
    },
    {
      "cell_type": "code",
      "metadata": {
        "colab": {
          "resources": {
            "http://localhost:8080/nbextensions/google.colab/files.js": {
              "data": "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",
              "ok": true,
              "headers": [
                [
                  "content-type",
                  "application/javascript"
                ]
              ],
              "status": 200,
              "status_text": ""
            }
          },
          "base_uri": "https://localhost:8080/",
          "height": 89
        },
        "id": "zIrcQI91m-6K",
        "outputId": "d37f707f-63f1-49a8-c9f0-b158bab66bd5"
      },
      "source": [
        "files.upload()"
      ],
      "execution_count": 5,
      "outputs": [
        {
          "output_type": "display_data",
          "data": {
            "text/html": [
              "\n",
              "     <input type=\"file\" id=\"files-a0aa932c-b9ea-4320-affd-3242610cc7a5\" name=\"files[]\" multiple disabled\n",
              "        style=\"border:none\" />\n",
              "     <output id=\"result-a0aa932c-b9ea-4320-affd-3242610cc7a5\">\n",
              "      Upload widget is only available when the cell has been executed in the\n",
              "      current browser session. Please rerun this cell to enable.\n",
              "      </output>\n",
              "      <script src=\"/nbextensions/google.colab/files.js\"></script> "
            ],
            "text/plain": [
              "<IPython.core.display.HTML object>"
            ]
          },
          "metadata": {
            "tags": []
          }
        },
        {
          "output_type": "stream",
          "text": [
            "Saving kaggle.json to kaggle.json\n"
          ],
          "name": "stdout"
        },
        {
          "output_type": "execute_result",
          "data": {
            "text/plain": [
              "{'kaggle.json': b'{\"username\":\"ibrahimbenabdallah\",\"key\":\"634fe495234e4524eb0d822988e03dd5\"}'}"
            ]
          },
          "metadata": {
            "tags": []
          },
          "execution_count": 5
        }
      ]
    },
    {
      "cell_type": "code",
      "metadata": {
        "id": "hI6yzWc2nPv5"
      },
      "source": [
        "!mkdir ~/.kaggle"
      ],
      "execution_count": 6,
      "outputs": []
    },
    {
      "cell_type": "code",
      "metadata": {
        "id": "MRrkq0eAnWhU"
      },
      "source": [
        "!cp kaggle.json ~/.kaggle/"
      ],
      "execution_count": 7,
      "outputs": []
    },
    {
      "cell_type": "code",
      "metadata": {
        "id": "ZZxZQCZznrAw"
      },
      "source": [
        "!chmod 600 ~/.kaggle/kaggle.json"
      ],
      "execution_count": 8,
      "outputs": []
    },
    {
      "cell_type": "code",
      "metadata": {
        "colab": {
          "base_uri": "https://localhost:8080/"
        },
        "id": "6c_JUdvlnxmr",
        "outputId": "d72bffa0-ff6a-4f0e-c9ec-6b185229dac3"
      },
      "source": [
        "!kaggle datasets list"
      ],
      "execution_count": 9,
      "outputs": [
        {
          "output_type": "stream",
          "text": [
            "Warning: Looks like you're using an outdated API Version, please consider updating (server 1.5.12 / client 1.5.4)\n",
            "ref                                                         title                                              size  lastUpdated          downloadCount  \n",
            "----------------------------------------------------------  ------------------------------------------------  -----  -------------------  -------------  \n",
            "gpreda/reddit-vaccine-myths                                 Reddit Vaccine Myths                              229KB  2021-05-15 08:36:45           5182  \n",
            "crowww/a-large-scale-fish-dataset                           A Large Scale Fish Dataset                          3GB  2021-04-28 17:03:01           2892  \n",
            "mathurinache/twitter-edge-nodes                             Twitter Edge Nodes                                342MB  2021-03-08 06:43:04            322  \n",
            "dhruvildave/wikibooks-dataset                               Wikibooks Dataset                                   1GB  2021-02-18 10:08:27           1746  \n",
            "imsparsh/musicnet-dataset                                   MusicNet Dataset                                   22GB  2021-02-18 14:12:19           1022  \n",
            "promptcloud/careerbuilder-job-listing-2020                  Careerbuilder Job Listing 2020                     42MB  2021-03-05 06:59:52            707  \n",
            "alsgroup/end-als                                            End ALS Kaggle Challenge                           12GB  2021-04-08 12:16:37            611  \n",
            "nickuzmenkov/nih-chest-xrays-tfrecords                      NIH Chest X-rays TFRecords                         11GB  2021-03-09 04:49:23            459  \n",
            "fatiimaezzahra/famous-iconic-women                          Famous Iconic Women                               838MB  2021-02-28 14:56:00            536  \n",
            "mathurinache/the-lj-speech-dataset                          The LJ Speech Dataset                               3GB  2021-02-15 09:19:54            135  \n",
            "coloradokb/dandelionimages                                  DandelionImages                                     4GB  2021-02-19 20:03:47            273  \n",
            "simiotic/github-code-snippets                               GitHub Code Snippets                                7GB  2021-03-03 11:34:39            104  \n",
            "stuartjames/lights                                          LightS: Light Specularity Dataset                  18GB  2021-02-18 14:32:26             45  \n",
            "imsparsh/accentdb-core-extended                             AccentDB - Core & Extended                          6GB  2021-02-17 14:22:54             59  \n",
            "nickuzmenkov/ranzcr-clip-kfold-tfrecords                    RANZCR CLiP KFold TFRecords                         2GB  2021-02-21 13:29:51             71  \n",
            "landrykezebou/lvzhdr-tone-mapping-benchmark-dataset-tmonet  LVZ-HDR Tone Mapping Benchmark Dataset (TMO-Net)   24GB  2021-03-01 05:03:40             66  \n",
            "datasnaek/youtube-new                                       Trending YouTube Video Statistics                 201MB  2019-06-03 00:56:47         139355  \n",
            "zynicide/wine-reviews                                       Wine Reviews                                       51MB  2017-11-27 17:08:04         136157  \n",
            "datasnaek/chess                                             Chess Game Dataset (Lichess)                        3MB  2017-09-04 03:09:09          17894  \n",
            "residentmario/ramen-ratings                                 Ramen Ratings                                      40KB  2018-01-11 16:04:39          22724  \n"
          ],
          "name": "stdout"
        }
      ]
    },
    {
      "cell_type": "code",
      "metadata": {
        "colab": {
          "base_uri": "https://localhost:8080/"
        },
        "id": "k36QeKuUn4iQ",
        "outputId": "e2d57a3c-5e82-4e98-ab22-f9f592bf841b"
      },
      "source": [
        "! kaggle competitions download -c 'new-york-city-taxi-fare-prediction'"
      ],
      "execution_count": 10,
      "outputs": [
        {
          "output_type": "stream",
          "text": [
            "Warning: Looks like you're using an outdated API Version, please consider updating (server 1.5.12 / client 1.5.4)\n",
            "Downloading train.csv.zip to /content\n",
            " 99% 1.55G/1.56G [00:19<00:00, 86.7MB/s]\n",
            "100% 1.56G/1.56G [00:19<00:00, 85.7MB/s]\n",
            "Downloading test.csv to /content\n",
            "  0% 0.00/960k [00:00<?, ?B/s]\n",
            "100% 960k/960k [00:00<00:00, 133MB/s]\n",
            "Downloading GCP-Coupons-Instructions.rtf to /content\n",
            "  0% 0.00/486 [00:00<?, ?B/s]\n",
            "100% 486/486 [00:00<00:00, 400kB/s]\n",
            "Downloading sample_submission.csv to /content\n",
            "  0% 0.00/335k [00:00<?, ?B/s]\n",
            "100% 335k/335k [00:00<00:00, 43.7MB/s]\n"
          ],
          "name": "stdout"
        }
      ]
    },
    {
      "cell_type": "code",
      "metadata": {
        "id": "2H4BHeh-o3Fl"
      },
      "source": [
        "! mkdir taxi_data"
      ],
      "execution_count": 11,
      "outputs": []
    },
    {
      "cell_type": "code",
      "metadata": {
        "colab": {
          "base_uri": "https://localhost:8080/"
        },
        "id": "heschiSAo7U-",
        "outputId": "bf5bdbde-2f5a-4c25-c18f-38008fb02e9a"
      },
      "source": [
        "!unzip train.csv.zip -d taxi_data"
      ],
      "execution_count": 12,
      "outputs": [
        {
          "output_type": "stream",
          "text": [
            "Archive:  train.csv.zip\n",
            "  inflating: taxi_data/train.csv     \n"
          ],
          "name": "stdout"
        }
      ]
    },
    {
      "cell_type": "code",
      "metadata": {
        "id": "3XWhBXbapO0Q"
      },
      "source": [
        "!mv test.csv taxi_data"
      ],
      "execution_count": 13,
      "outputs": []
    },
    {
      "cell_type": "code",
      "metadata": {
        "colab": {
          "base_uri": "https://localhost:8080/"
        },
        "id": "IvIzKVNMp1uC",
        "outputId": "81c9af3d-92b3-4075-f26c-2f01b1ff8ee4"
      },
      "source": [
        "!ls"
      ],
      "execution_count": 14,
      "outputs": [
        {
          "output_type": "stream",
          "text": [
            "GCP-Coupons-Instructions.rtf  sample_data\t     taxi_data\n",
            "kaggle.json\t\t      sample_submission.csv  train.csv.zip\n"
          ],
          "name": "stdout"
        }
      ]
    },
    {
      "cell_type": "code",
      "metadata": {
        "colab": {
          "base_uri": "https://localhost:8080/"
        },
        "id": "Y5T_0BDTkkbX",
        "outputId": "2eedccce-3784-46ac-89a1-5247af7f9954"
      },
      "source": [
        "!sudo apt update\n",
        "!apt-get install openjdk-8-jdk-headless -qq > /dev/null\n",
        "!wget -q https://archive.apache.org/dist/spark/spark-2.4.5/spark-2.4.5-bin-hadoop2.7.tgz\n",
        "!tar xf spark-2.4.5-bin-hadoop2.7.tgz\n",
        "\n",
        "!pip install -q findspark\n",
        "!pip install pyspark==2.4.5\n",
        "!pip install -U pyarrow\n",
        "\n",
        "import os\n",
        "os.environ[\"JAVA_HOME\"] = \"/usr/lib/jvm/java-8-openjdk-amd64\"\n",
        "os.environ[\"SPARK_HOME\"] = \"/content/spark-2.4.5-bin-hadoop2.7\""
      ],
      "execution_count": 15,
      "outputs": [
        {
          "output_type": "stream",
          "text": [
            "\u001b[33m\r0% [Working]\u001b[0m\r            \rGet:1 https://cloud.r-project.org/bin/linux/ubuntu bionic-cran40/ InRelease [3,626 B]\n",
            "Ign:2 https://developer.download.nvidia.com/compute/cuda/repos/ubuntu1804/x86_64  InRelease\n",
            "Get:3 http://security.ubuntu.com/ubuntu bionic-security InRelease [88.7 kB]\n",
            "Ign:4 https://developer.download.nvidia.com/compute/machine-learning/repos/ubuntu1804/x86_64  InRelease\n",
            "Get:5 https://developer.download.nvidia.com/compute/cuda/repos/ubuntu1804/x86_64  Release [697 B]\n",
            "Hit:6 https://developer.download.nvidia.com/compute/machine-learning/repos/ubuntu1804/x86_64  Release\n",
            "Get:7 https://developer.download.nvidia.com/compute/cuda/repos/ubuntu1804/x86_64  Release.gpg [836 B]\n",
            "Hit:8 http://archive.ubuntu.com/ubuntu bionic InRelease\n",
            "Get:9 http://archive.ubuntu.com/ubuntu bionic-updates InRelease [88.7 kB]\n",
            "Get:10 http://archive.ubuntu.com/ubuntu bionic-backports InRelease [74.6 kB]\n",
            "Get:11 http://ppa.launchpad.net/c2d4u.team/c2d4u4.0+/ubuntu bionic InRelease [15.9 kB]\n",
            "Hit:12 http://ppa.launchpad.net/cran/libgit2/ubuntu bionic InRelease\n",
            "Hit:13 http://ppa.launchpad.net/deadsnakes/ppa/ubuntu bionic InRelease\n",
            "Get:14 http://ppa.launchpad.net/graphics-drivers/ppa/ubuntu bionic InRelease [21.3 kB]\n",
            "Get:16 https://cloud.r-project.org/bin/linux/ubuntu bionic-cran40/ Packages [56.8 kB]\n",
            "Ign:17 https://developer.download.nvidia.com/compute/cuda/repos/ubuntu1804/x86_64  Packages\n",
            "Get:17 https://developer.download.nvidia.com/compute/cuda/repos/ubuntu1804/x86_64  Packages [772 kB]\n",
            "Get:18 http://archive.ubuntu.com/ubuntu bionic-updates/restricted amd64 Packages [452 kB]\n",
            "Get:19 http://security.ubuntu.com/ubuntu bionic-security/universe amd64 Packages [1,411 kB]\n",
            "Get:20 http://archive.ubuntu.com/ubuntu bionic-updates/main amd64 Packages [2,582 kB]\n",
            "Get:21 http://ppa.launchpad.net/c2d4u.team/c2d4u4.0+/ubuntu bionic/main Sources [1,761 kB]\n",
            "Get:22 http://security.ubuntu.com/ubuntu bionic-security/main amd64 Packages [2,150 kB]\n",
            "Get:23 http://security.ubuntu.com/ubuntu bionic-security/restricted amd64 Packages [423 kB]\n",
            "Get:24 http://archive.ubuntu.com/ubuntu bionic-updates/universe amd64 Packages [2,183 kB]\n",
            "Get:25 http://ppa.launchpad.net/c2d4u.team/c2d4u4.0+/ubuntu bionic/main amd64 Packages [901 kB]\n",
            "Get:26 http://ppa.launchpad.net/graphics-drivers/ppa/ubuntu bionic/main amd64 Packages [41.5 kB]\n",
            "Fetched 13.0 MB in 5s (2,496 kB/s)\n",
            "Reading package lists... Done\n",
            "Building dependency tree       \n",
            "Reading state information... Done\n",
            "62 packages can be upgraded. Run 'apt list --upgradable' to see them.\n",
            "Collecting pyspark==2.4.5\n",
            "\u001b[?25l  Downloading https://files.pythonhosted.org/packages/9a/5a/271c416c1c2185b6cb0151b29a91fff6fcaed80173c8584ff6d20e46b465/pyspark-2.4.5.tar.gz (217.8MB)\n",
            "\u001b[K     |████████████████████████████████| 217.8MB 59kB/s \n",
            "\u001b[?25hCollecting py4j==0.10.7\n",
            "\u001b[?25l  Downloading https://files.pythonhosted.org/packages/e3/53/c737818eb9a7dc32a7cd4f1396e787bd94200c3997c72c1dbe028587bd76/py4j-0.10.7-py2.py3-none-any.whl (197kB)\n",
            "\u001b[K     |████████████████████████████████| 204kB 15.6MB/s \n",
            "\u001b[?25hBuilding wheels for collected packages: pyspark\n",
            "  Building wheel for pyspark (setup.py) ... \u001b[?25l\u001b[?25hdone\n",
            "  Created wheel for pyspark: filename=pyspark-2.4.5-py2.py3-none-any.whl size=218257928 sha256=a8e06010754356fdaf15b3be16870c49c98f6a47bb05b0befe1723c23893b3ab\n",
            "  Stored in directory: /root/.cache/pip/wheels/bf/db/04/61d66a5939364e756eb1c1be4ec5bdce6e04047fc7929a3c3c\n",
            "Successfully built pyspark\n",
            "Installing collected packages: py4j, pyspark\n",
            "Successfully installed py4j-0.10.7 pyspark-2.4.5\n",
            "Collecting pyarrow\n",
            "\u001b[?25l  Downloading https://files.pythonhosted.org/packages/f8/58/70e5d957f5ffcb0d67dc79faca766d2d61a8e641b43156c6745c60c8b32b/pyarrow-4.0.0-cp37-cp37m-manylinux2014_x86_64.whl (21.8MB)\n",
            "\u001b[K     |████████████████████████████████| 21.9MB 1.3MB/s \n",
            "\u001b[?25hRequirement already satisfied, skipping upgrade: numpy>=1.16.6 in /usr/local/lib/python3.7/dist-packages (from pyarrow) (1.19.5)\n",
            "Installing collected packages: pyarrow\n",
            "  Found existing installation: pyarrow 3.0.0\n",
            "    Uninstalling pyarrow-3.0.0:\n",
            "      Successfully uninstalled pyarrow-3.0.0\n",
            "Successfully installed pyarrow-4.0.0\n"
          ],
          "name": "stdout"
        }
      ]
    },
    {
      "cell_type": "code",
      "metadata": {
        "id": "BKvn5TFakpeT"
      },
      "source": [
        "import findspark\n",
        "from pyspark.sql import SparkSession\n",
        "import sys,tempfile\n",
        "import urllib.request\n",
        "from pyspark.sql.types import LongType, StringType, StructField, StructType, BooleanType, ArrayType, IntegerType, DoubleType, TimestampType, FloatType\n",
        "from pyspark.sql.functions import udf, radians, sqrt, sin, asin, cos, acos, col, array, isnan, when, count, col\n",
        "import pandas as pd\n",
        "import numpy as np\n",
        "import matplotlib.pyplot as plt\n",
        "from pyspark.ml.feature import SQLTransformer\n",
        "from pyspark.ml import Pipeline"
      ],
      "execution_count": 16,
      "outputs": []
    },
    {
      "cell_type": "code",
      "metadata": {
        "id": "T2zU69USk0N0"
      },
      "source": [
        "findspark.init()\n",
        "spark = SparkSession.builder.master(\"local[*]\").getOrCreate()\n",
        "spark.conf.set(\"spark.executor.memory\", \"4g\")\n",
        "spark.conf.set(\"spark.driver.memory\", \"4g\")\n",
        "spark.conf.set(\"spark.memory.fraction\", \"0.9\")\n"
      ],
      "execution_count": 17,
      "outputs": []
    },
    {
      "cell_type": "code",
      "metadata": {
        "colab": {
          "base_uri": "https://localhost:8080/"
        },
        "id": "HhlqvPdHs2ET",
        "outputId": "1cf64efb-b284-4e3e-869c-32963eba11f9"
      },
      "source": [
        "df = spark.read.option(\"inferSchema\", \"false\").csv(\"taxi_data/train.csv\", header=True)\n",
        "df.printSchema()"
      ],
      "execution_count": 16,
      "outputs": [
        {
          "output_type": "stream",
          "text": [
            "root\n",
            " |-- key: string (nullable = true)\n",
            " |-- fare_amount: string (nullable = true)\n",
            " |-- pickup_datetime: string (nullable = true)\n",
            " |-- pickup_longitude: string (nullable = true)\n",
            " |-- pickup_latitude: string (nullable = true)\n",
            " |-- dropoff_longitude: string (nullable = true)\n",
            " |-- dropoff_latitude: string (nullable = true)\n",
            " |-- passenger_count: string (nullable = true)\n",
            "\n"
          ],
          "name": "stdout"
        }
      ]
    },
    {
      "cell_type": "code",
      "metadata": {
        "colab": {
          "base_uri": "https://localhost:8080/"
        },
        "id": "69Yn0ye8vMzk",
        "outputId": "2e7cb5d6-5ab2-474f-8379-050ebc1f1cc4"
      },
      "source": [
        "df.show()"
      ],
      "execution_count": 17,
      "outputs": [
        {
          "output_type": "stream",
          "text": [
            "+--------------------+-----------+--------------------+----------------+---------------+-----------------+----------------+---------------+\n",
            "|                 key|fare_amount|     pickup_datetime|pickup_longitude|pickup_latitude|dropoff_longitude|dropoff_latitude|passenger_count|\n",
            "+--------------------+-----------+--------------------+----------------+---------------+-----------------+----------------+---------------+\n",
            "|2009-06-15 17:26:...|        4.5|2009-06-15 17:26:...|      -73.844311|      40.721319|        -73.84161|       40.712278|              1|\n",
            "|2010-01-05 16:52:...|       16.9|2010-01-05 16:52:...|      -74.016048|      40.711303|       -73.979268|       40.782004|              1|\n",
            "|2011-08-18 00:35:...|        5.7|2011-08-18 00:35:...|      -73.982738|       40.76127|       -73.991242|       40.750562|              2|\n",
            "|2012-04-21 04:30:...|        7.7|2012-04-21 04:30:...|       -73.98713|      40.733143|       -73.991567|       40.758092|              1|\n",
            "|2010-03-09 07:51:...|        5.3|2010-03-09 07:51:...|      -73.968095|      40.768008|       -73.956655|       40.783762|              1|\n",
            "|2011-01-06 09:50:...|       12.1|2011-01-06 09:50:...|      -74.000964|       40.73163|       -73.972892|       40.758233|              1|\n",
            "|2012-11-20 20:35:...|        7.5|2012-11-20 20:35:...|      -73.980002|      40.751662|       -73.973802|       40.764842|              1|\n",
            "|2012-01-04 17:22:...|       16.5|2012-01-04 17:22:...|        -73.9513|      40.774138|       -73.990095|       40.751048|              1|\n",
            "|2012-12-03 13:10:...|          9|2012-12-03 13:10:...|      -74.006462|      40.726713|       -73.993078|       40.731628|              1|\n",
            "|2009-09-02 01:11:...|        8.9|2009-09-02 01:11:...|      -73.980658|      40.733873|        -73.99154|       40.758138|              2|\n",
            "|2012-04-08 07:30:...|        5.3|2012-04-08 07:30:...|      -73.996335|      40.737142|       -73.980721|       40.733559|              1|\n",
            "|2012-12-24 11:24:...|        5.5|2012-12-24 11:24:...|               0|              0|                0|               0|              3|\n",
            "|2009-11-06 01:04:...|        4.1|2009-11-06 01:04:...|      -73.991601|      40.744712|       -73.983081|       40.744682|              2|\n",
            "|2013-07-02 19:54:...|          7|2013-07-02 19:54:...|       -74.00536|      40.728867|       -74.008913|       40.710907|              1|\n",
            "|2011-04-05 17:11:...|        7.7|2011-04-05 17:11:...|      -74.001821|      40.737547|        -73.99806|       40.722788|              2|\n",
            "|2013-11-23 12:57:...|          5|2013-11-23 12:57:...|               0|              0|                0|               0|              1|\n",
            "|2014-02-19 07:22:...|       12.5|2014-02-19 07:22:...|       -73.98643|      40.760465|        -73.98899|       40.737075|              1|\n",
            "|2009-07-22 16:08:...|        5.3|2009-07-22 16:08:...|       -73.98106|       40.73769|       -73.994177|       40.728412|              1|\n",
            "|2010-07-07 14:52:...|        5.3|2010-07-07 14:52:...|      -73.969505|      40.784843|       -73.958732|       40.783357|              1|\n",
            "|2014-12-06 20:36:...|          4|2014-12-06 20:36:...|      -73.979815|      40.751902|       -73.979446|       40.755481|              1|\n",
            "+--------------------+-----------+--------------------+----------------+---------------+-----------------+----------------+---------------+\n",
            "only showing top 20 rows\n",
            "\n"
          ],
          "name": "stdout"
        }
      ]
    },
    {
      "cell_type": "code",
      "metadata": {
        "colab": {
          "base_uri": "https://localhost:8080/"
        },
        "id": "unbc6G3ml0F8",
        "outputId": "1c9381e2-2287-4b43-f991-a579f8484b36"
      },
      "source": [
        "schema = StructType([\n",
        "          StructField(\"key\", TimestampType(), True),\n",
        "          StructField(\"fare_amount\", DoubleType(), True),\n",
        "          StructField(\"pickup_datetime\", TimestampType(), True),\n",
        "          StructField(\"pickup_longitude\", DoubleType(), True),\n",
        "          StructField(\"pickup_latitude\", DoubleType(), True),\n",
        "          StructField(\"dropoff_longitude\", DoubleType(), True),\n",
        "          StructField(\"dropoff_latitude\", DoubleType(), True),\n",
        "          StructField(\"passenger_count\", IntegerType(), True)\n",
        "])\n",
        "          \n",
        "\n",
        "print(schema)\n",
        "\n",
        "df = spark.read.csv(\"taxi_data/train.csv\", header=True, schema=schema, enforceSchema=True, timestampFormat=\"yyyy-MM-dd HH:mm:ss\")"
      ],
      "execution_count": 18,
      "outputs": [
        {
          "output_type": "stream",
          "text": [
            "StructType(List(StructField(key,TimestampType,true),StructField(fare_amount,DoubleType,true),StructField(pickup_datetime,TimestampType,true),StructField(pickup_longitude,DoubleType,true),StructField(pickup_latitude,DoubleType,true),StructField(dropoff_longitude,DoubleType,true),StructField(dropoff_latitude,DoubleType,true),StructField(passenger_count,IntegerType,true)))\n"
          ],
          "name": "stdout"
        }
      ]
    },
    {
      "cell_type": "code",
      "metadata": {
        "colab": {
          "base_uri": "https://localhost:8080/"
        },
        "id": "JsEo8O5DuPW4",
        "outputId": "90677589-ed7b-4ccb-c071-eb2572d3ced6"
      },
      "source": [
        "df.printSchema()"
      ],
      "execution_count": 19,
      "outputs": [
        {
          "output_type": "stream",
          "text": [
            "root\n",
            " |-- key: timestamp (nullable = true)\n",
            " |-- fare_amount: double (nullable = true)\n",
            " |-- pickup_datetime: timestamp (nullable = true)\n",
            " |-- pickup_longitude: double (nullable = true)\n",
            " |-- pickup_latitude: double (nullable = true)\n",
            " |-- dropoff_longitude: double (nullable = true)\n",
            " |-- dropoff_latitude: double (nullable = true)\n",
            " |-- passenger_count: integer (nullable = true)\n",
            "\n"
          ],
          "name": "stdout"
        }
      ]
    },
    {
      "cell_type": "code",
      "metadata": {
        "colab": {
          "base_uri": "https://localhost:8080/"
        },
        "id": "kzGtPpltl5pm",
        "outputId": "cdab4b53-d0a6-4595-c915-2d74fb577f24"
      },
      "source": [
        "df.show()"
      ],
      "execution_count": 20,
      "outputs": [
        {
          "output_type": "stream",
          "text": [
            "+-------------------+-----------+-------------------+----------------+---------------+-----------------+----------------+---------------+\n",
            "|                key|fare_amount|    pickup_datetime|pickup_longitude|pickup_latitude|dropoff_longitude|dropoff_latitude|passenger_count|\n",
            "+-------------------+-----------+-------------------+----------------+---------------+-----------------+----------------+---------------+\n",
            "|2009-06-15 17:26:21|        4.5|2009-06-15 17:26:21|      -73.844311|      40.721319|        -73.84161|       40.712278|              1|\n",
            "|2010-01-05 16:52:16|       16.9|2010-01-05 16:52:16|      -74.016048|      40.711303|       -73.979268|       40.782004|              1|\n",
            "|2011-08-18 00:35:00|        5.7|2011-08-18 00:35:00|      -73.982738|       40.76127|       -73.991242|       40.750562|              2|\n",
            "|2012-04-21 04:30:42|        7.7|2012-04-21 04:30:42|       -73.98713|      40.733143|       -73.991567|       40.758092|              1|\n",
            "|2010-03-09 07:51:00|        5.3|2010-03-09 07:51:00|      -73.968095|      40.768008|       -73.956655|       40.783762|              1|\n",
            "|2011-01-06 09:50:45|       12.1|2011-01-06 09:50:45|      -74.000964|       40.73163|       -73.972892|       40.758233|              1|\n",
            "|2012-11-20 20:35:00|        7.5|2012-11-20 20:35:00|      -73.980002|      40.751662|       -73.973802|       40.764842|              1|\n",
            "|2012-01-04 17:22:00|       16.5|2012-01-04 17:22:00|        -73.9513|      40.774138|       -73.990095|       40.751048|              1|\n",
            "|2012-12-03 13:10:00|        9.0|2012-12-03 13:10:00|      -74.006462|      40.726713|       -73.993078|       40.731628|              1|\n",
            "|2009-09-02 01:11:00|        8.9|2009-09-02 01:11:00|      -73.980658|      40.733873|        -73.99154|       40.758138|              2|\n",
            "|2012-04-08 07:30:50|        5.3|2012-04-08 07:30:50|      -73.996335|      40.737142|       -73.980721|       40.733559|              1|\n",
            "|2012-12-24 11:24:00|        5.5|2012-12-24 11:24:00|             0.0|            0.0|              0.0|             0.0|              3|\n",
            "|2009-11-06 01:04:03|        4.1|2009-11-06 01:04:03|      -73.991601|      40.744712|       -73.983081|       40.744682|              2|\n",
            "|2013-07-02 19:54:00|        7.0|2013-07-02 19:54:00|       -74.00536|      40.728867|       -74.008913|       40.710907|              1|\n",
            "|2011-04-05 17:11:05|        7.7|2011-04-05 17:11:05|      -74.001821|      40.737547|        -73.99806|       40.722788|              2|\n",
            "|2013-11-23 12:57:00|        5.0|2013-11-23 12:57:00|             0.0|            0.0|              0.0|             0.0|              1|\n",
            "|2014-02-19 07:22:00|       12.5|2014-02-19 07:22:00|       -73.98643|      40.760465|        -73.98899|       40.737075|              1|\n",
            "|2009-07-22 16:08:00|        5.3|2009-07-22 16:08:00|       -73.98106|       40.73769|       -73.994177|       40.728412|              1|\n",
            "|2010-07-07 14:52:00|        5.3|2010-07-07 14:52:00|      -73.969505|      40.784843|       -73.958732|       40.783357|              1|\n",
            "|2014-12-06 20:36:22|        4.0|2014-12-06 20:36:22|      -73.979815|      40.751902|       -73.979446|       40.755481|              1|\n",
            "+-------------------+-----------+-------------------+----------------+---------------+-----------------+----------------+---------------+\n",
            "only showing top 20 rows\n",
            "\n"
          ],
          "name": "stdout"
        }
      ]
    },
    {
      "cell_type": "code",
      "metadata": {
        "colab": {
          "base_uri": "https://localhost:8080/"
        },
        "id": "0g0MrFYMl8me",
        "outputId": "9ee6a587-f388-4e1f-fd68-11bca07a6997"
      },
      "source": [
        "df.count()"
      ],
      "execution_count": 10,
      "outputs": [
        {
          "output_type": "execute_result",
          "data": {
            "text/plain": [
              "55423856"
            ]
          },
          "metadata": {
            "tags": []
          },
          "execution_count": 10
        }
      ]
    },
    {
      "cell_type": "code",
      "metadata": {
        "id": "iGOxZD23qSCX"
      },
      "source": [
        "df = df.replace(float('nan'), None)\n",
        "df.createOrReplaceTempView('ny_taxi')"
      ],
      "execution_count": 21,
      "outputs": []
    },
    {
      "cell_type": "code",
      "metadata": {
        "colab": {
          "base_uri": "https://localhost:8080/"
        },
        "id": "lspF9wlL_d9e",
        "outputId": "10458805-2225-4be1-f3ef-3a518f62cdf5"
      },
      "source": [
        "spark.sql(\"select distinct(passenger_count) from ny_taxi\").show()"
      ],
      "execution_count": 12,
      "outputs": [
        {
          "output_type": "stream",
          "text": [
            "+---------------+\n",
            "|passenger_count|\n",
            "+---------------+\n",
            "|             34|\n",
            "|              1|\n",
            "|              6|\n",
            "|              3|\n",
            "|              5|\n",
            "|              9|\n",
            "|              4|\n",
            "|              8|\n",
            "|             49|\n",
            "|              7|\n",
            "|             51|\n",
            "|            129|\n",
            "|              2|\n",
            "|              0|\n",
            "|            208|\n",
            "+---------------+\n",
            "\n"
          ],
          "name": "stdout"
        }
      ]
    },
    {
      "cell_type": "code",
      "metadata": {
        "colab": {
          "base_uri": "https://localhost:8080/"
        },
        "id": "lErr4cJr_p6s",
        "outputId": "19dbddac-ac70-4ea0-ad12-ea032188c055"
      },
      "source": [
        "spark.sql(\"select passenger_count, count(*) from ny_taxi group by passenger_count order by passenger_count\").show()"
      ],
      "execution_count": 13,
      "outputs": [
        {
          "output_type": "stream",
          "text": [
            "+---------------+--------+\n",
            "|passenger_count|count(1)|\n",
            "+---------------+--------+\n",
            "|              0|  195416|\n",
            "|              1|38337524|\n",
            "|              2| 8175243|\n",
            "|              3| 2432712|\n",
            "|              4| 1178852|\n",
            "|              5| 3929346|\n",
            "|              6| 1174647|\n",
            "|              7|      15|\n",
            "|              8|       9|\n",
            "|              9|      23|\n",
            "|             34|       1|\n",
            "|             49|       1|\n",
            "|             51|       1|\n",
            "|            129|       2|\n",
            "|            208|      64|\n",
            "+---------------+--------+\n",
            "\n"
          ],
          "name": "stdout"
        }
      ]
    },
    {
      "cell_type": "code",
      "metadata": {
        "colab": {
          "base_uri": "https://localhost:8080/"
        },
        "id": "y27NC-0B_2t7",
        "outputId": "7f42860d-b1f3-48e5-9664-a75513851e97"
      },
      "source": [
        "spark.sql(\"select min(year(pickup_datetime)) from ny_taxi\").show()"
      ],
      "execution_count": 14,
      "outputs": [
        {
          "output_type": "stream",
          "text": [
            "+----------------------------------------+\n",
            "|min(year(CAST(pickup_datetime AS DATE)))|\n",
            "+----------------------------------------+\n",
            "|                                    2009|\n",
            "+----------------------------------------+\n",
            "\n"
          ],
          "name": "stdout"
        }
      ]
    },
    {
      "cell_type": "code",
      "metadata": {
        "colab": {
          "base_uri": "https://localhost:8080/"
        },
        "id": "dBe-HZDlBMUE",
        "outputId": "351889b7-30c3-4b10-9e1c-1b826073b296"
      },
      "source": [
        "spark.sql(\"select max(year(pickup_datetime)) from ny_taxi\").show()"
      ],
      "execution_count": 15,
      "outputs": [
        {
          "output_type": "stream",
          "text": [
            "+----------------------------------------+\n",
            "|max(year(CAST(pickup_datetime AS DATE)))|\n",
            "+----------------------------------------+\n",
            "|                                    2015|\n",
            "+----------------------------------------+\n",
            "\n"
          ],
          "name": "stdout"
        }
      ]
    },
    {
      "cell_type": "code",
      "metadata": {
        "id": "Z7F2zWD7BkWm"
      },
      "source": [
        "sample  = df.sample(withReplacement=False, fraction=0.0001, seed=1)"
      ],
      "execution_count": 16,
      "outputs": []
    },
    {
      "cell_type": "code",
      "metadata": {
        "id": "CCOTwMJiEHpx"
      },
      "source": [
        "sample = sample.toPandas()"
      ],
      "execution_count": 17,
      "outputs": []
    },
    {
      "cell_type": "code",
      "metadata": {
        "colab": {
          "base_uri": "https://localhost:8080/",
          "height": 283
        },
        "id": "3NFSNrDYERAr",
        "outputId": "98b5c6e0-cf56-441e-ac1d-654c2934237b"
      },
      "source": [
        "sample[\"passenger_count\"].hist()"
      ],
      "execution_count": 18,
      "outputs": [
        {
          "output_type": "execute_result",
          "data": {
            "text/plain": [
              "<matplotlib.axes._subplots.AxesSubplot at 0x7f8391ba14d0>"
            ]
          },
          "metadata": {
            "tags": []
          },
          "execution_count": 18
        },
        {
          "output_type": "display_data",
          "data": {
            "image/png": "[encoded data removed]",
            "text/plain": [
              "<Figure size 432x288 with 1 Axes>"
            ]
          },
          "metadata": {
            "tags": [],
            "needs_background": "light"
          }
        }
      ]
    },
    {
      "cell_type": "code",
      "metadata": {
        "colab": {
          "base_uri": "https://localhost:8080/",
          "height": 282
        },
        "id": "OphVe_CyEXVg",
        "outputId": "0f11be9d-aae2-4a1d-e0a6-b2c0c2aed1f8"
      },
      "source": [
        "sample[\"fare_amount\"].hist()"
      ],
      "execution_count": 19,
      "outputs": [
        {
          "output_type": "execute_result",
          "data": {
            "text/plain": [
              "<matplotlib.axes._subplots.AxesSubplot at 0x7f8391de6dd0>"
            ]
          },
          "metadata": {
            "tags": []
          },
          "execution_count": 19
        },
        {
          "output_type": "display_data",
          "data": {
            "image/png": "[encoded data removed]",
            "text/plain": [
              "<Figure size 432x288 with 1 Axes>"
            ]
          },
          "metadata": {
            "tags": [],
            "needs_background": "light"
          }
        }
      ]
    },
    {
      "cell_type": "code",
      "metadata": {
        "colab": {
          "base_uri": "https://localhost:8080/",
          "height": 283
        },
        "id": "8d-76iMvEaEN",
        "outputId": "04cb2d2a-2c91-42bf-94a5-92c3130e38cb"
      },
      "source": [
        "sample.boxplot(\"fare_amount\")"
      ],
      "execution_count": 20,
      "outputs": [
        {
          "output_type": "execute_result",
          "data": {
            "text/plain": [
              "<matplotlib.axes._subplots.AxesSubplot at 0x7f8391d3d2d0>"
            ]
          },
          "metadata": {
            "tags": []
          },
          "execution_count": 20
        },
        {
          "output_type": "display_data",
          "data": {
            "image/png": "[encoded data removed]",
            "text/plain": [
              "<Figure size 432x288 with 1 Axes>"
            ]
          },
          "metadata": {
            "tags": [],
            "needs_background": "light"
          }
        }
      ]
    },
    {
      "cell_type": "code",
      "metadata": {
        "colab": {
          "base_uri": "https://localhost:8080/",
          "height": 283
        },
        "id": "d-_USJrzIUz9",
        "outputId": "55473524-a2b8-4172-e006-431a9b13e4c3"
      },
      "source": [
        "sample.boxplot(\"passenger_count\")"
      ],
      "execution_count": 21,
      "outputs": [
        {
          "output_type": "execute_result",
          "data": {
            "text/plain": [
              "<matplotlib.axes._subplots.AxesSubplot at 0x7f8391cd3910>"
            ]
          },
          "metadata": {
            "tags": []
          },
          "execution_count": 21
        },
        {
          "output_type": "display_data",
          "data": {
            "image/png": "[encoded data removed]",
            "text/plain": [
              "<Figure size 432x288 with 1 Axes>"
            ]
          },
          "metadata": {
            "tags": [],
            "needs_background": "light"
          }
        }
      ]
    },
    {
      "cell_type": "code",
      "metadata": {
        "id": "IKlH3NLPzCCh",
        "outputId": "93b33d34-2837-454e-b719-82f7b459d7ef",
        "colab": {
          "base_uri": "https://localhost:8080/"
        }
      },
      "source": [
        "df.printSchema()"
      ],
      "execution_count": 87,
      "outputs": [
        {
          "output_type": "stream",
          "text": [
            "root\n",
            " |-- key: timestamp (nullable = true)\n",
            " |-- fare_amount: double (nullable = true)\n",
            " |-- pickup_datetime: timestamp (nullable = true)\n",
            " |-- pickup_longitude: double (nullable = true)\n",
            " |-- pickup_latitude: double (nullable = true)\n",
            " |-- dropoff_longitude: double (nullable = true)\n",
            " |-- dropoff_latitude: double (nullable = true)\n",
            " |-- passenger_count: integer (nullable = true)\n",
            "\n"
          ],
          "name": "stdout"
        }
      ]
    },
    {
      "cell_type": "code",
      "metadata": {
        "id": "-RHi3g_syoHV",
        "outputId": "6a20737c-c382-4bff-935d-cad5eccd59d2",
        "colab": {
          "base_uri": "https://localhost:8080/"
        }
      },
      "source": [
        "rqt = \"select 'fare_amount' as column_name, count(fare_amount) as count_null from ny_taxi where fare_amount is null \" +\\\n",
        "      \"union all \"+\\\n",
        "      \"select 'pickup_datetime' as column_name, count(pickup_datetime) as count_null from ny_taxi where pickup_datetime is null \" +\\\n",
        "      \"union all \"+\\\n",
        "      \"select 'pickup_longitude' as column_name, count(pickup_longitude) as count_null from ny_taxi where pickup_longitude is null \" +\\\n",
        "      \"union all \"+\\\n",
        "      \"select 'pickup_latitude' as column_name, count(pickup_latitude) as count_null from ny_taxi where pickup_latitude is null \" +\\\n",
        "      \"union all \"+\\\n",
        "      \"select 'dropoff_longitude' as column_name, count(dropoff_longitude) as count_null from ny_taxi where dropoff_longitude is null \" +\\\n",
        "      \"union all \"+\\\n",
        "      \"select 'dropoff_latitude' as column_name, count(dropoff_latitude) as count_null from ny_taxi where dropoff_latitude is null \" +\\\n",
        "      \"union all \"+\\\n",
        "      \"select 'passenger_count' as column_name, count(passenger_count) as count_null from ny_taxi where passenger_count is null \"\n",
        "spark.sql(rqt).show()"
      ],
      "execution_count": 99,
      "outputs": [
        {
          "output_type": "stream",
          "text": [
            "+-----------------+----------+\n",
            "|      column_name|count_null|\n",
            "+-----------------+----------+\n",
            "|      fare_amount|         0|\n",
            "|  pickup_datetime|         0|\n",
            "| pickup_longitude|         0|\n",
            "|  pickup_latitude|         0|\n",
            "|dropoff_longitude|         0|\n",
            "| dropoff_latitude|         0|\n",
            "|  passenger_count|         0|\n",
            "+-----------------+----------+\n",
            "\n"
          ],
          "name": "stdout"
        }
      ]
    },
    {
      "cell_type": "code",
      "metadata": {
        "id": "A4_cjc3V3rwh"
      },
      "source": [
        "columns = ['key',\n",
        " 'fare_amount',\n",
        " 'pickup_datetime',\n",
        " 'pickup_longitude',\n",
        " 'pickup_latitude',\n",
        " 'dropoff_longitude',\n",
        " 'dropoff_latitude',\n",
        " 'passenger_count']"
      ],
      "execution_count": 101,
      "outputs": []
    },
    {
      "cell_type": "code",
      "metadata": {
        "id": "78-Mv3n62riP",
        "outputId": "86f700ca-4f93-46b5-e2bf-8a54dd3b944b",
        "colab": {
          "base_uri": "https://localhost:8080/"
        }
      },
      "source": [
        "df.select([count(when(col(c).isNull(), c)).alias(c) for c in columns]).show()"
      ],
      "execution_count": 102,
      "outputs": [
        {
          "output_type": "stream",
          "text": [
            "+---+-----------+---------------+----------------+---------------+-----------------+----------------+---------------+\n",
            "|key|fare_amount|pickup_datetime|pickup_longitude|pickup_latitude|dropoff_longitude|dropoff_latitude|passenger_count|\n",
            "+---+-----------+---------------+----------------+---------------+-----------------+----------------+---------------+\n",
            "|  0|          0|              0|               0|              0|              376|             376|              0|\n",
            "+---+-----------+---------------+----------------+---------------+-----------------+----------------+---------------+\n",
            "\n"
          ],
          "name": "stdout"
        }
      ]
    },
    {
      "cell_type": "code",
      "metadata": {
        "id": "bniN43sWdY2L"
      },
      "source": [
        "df = df.na.drop(subset=[\"dropoff_longitude\", \"dropoff_latitude\"])"
      ],
      "execution_count": 22,
      "outputs": []
    },
    {
      "cell_type": "markdown",
      "metadata": {
        "id": "Hs-KTZdQJqMT"
      },
      "source": [
        "# Feature extraction\n",
        "- Havershine Distance\n",
        "- Manhattan Distance\n",
        "- Bearing between 2 long/latt\n",
        "- Center Lattitude and Longitude between Pickup and dropoff\n"
      ]
    },
    {
      "cell_type": "code",
      "metadata": {
        "id": "5b0sxCH8JjKs"
      },
      "source": [
        "def havershine_distance(lat1, lng1, lat2, lng2):\n",
        "  \"\"\"\n",
        "  Description:\n",
        "    Calculated the Havershine Distance between 2 points on a sphere given their longitudes and lattitudes.\n",
        "  Inputs:\n",
        "    - lng1: longitude of the first point\n",
        "    - lat1: latitude of the first point\n",
        "    - lng2: longitude of the second point\n",
        "    - lat2: latitude of the second point\n",
        "  Output:\n",
        "    - distance: FLoat\n",
        "  \"\"\"\n",
        "  from math import radians, cos, sin, asin, sqrt\n",
        "  lat1, lng1, lat2, lng2 = map(radians, [lat1, lng1, lat2, lng2])\n",
        "  AVG_EARTH_RADIUS = 6371\n",
        "  lat = lat1 - lat2\n",
        "  lng = lng1 - lng2\n",
        "  d = sin(lat * 5) ** 2 + cos(lat1) * cos(lat2) * sin(lng* 0.5) ** 2\n",
        "  try :\n",
        "    return round(2 * AVG_EARTH_RADIUS * asin(sqrt(d)), 4)\n",
        "  except:\n",
        "     return 0\n"
      ],
      "execution_count": 18,
      "outputs": []
    },
    {
      "cell_type": "code",
      "metadata": {
        "id": "Glyp8DAtJi5q"
      },
      "source": [
        "udf_havershine_distance = udf(havershine_distance, DoubleType())\n",
        "df2 = df.withColumn(\"havershine_distance\", udf_havershine_distance(\"pickup_latitude\", \"pickup_longitude\", \"dropoff_latitude\", \"dropoff_longitude\"))"
      ],
      "execution_count": 24,
      "outputs": []
    },
    {
      "cell_type": "code",
      "metadata": {
        "colab": {
          "base_uri": "https://localhost:8080/"
        },
        "id": "BqVVhhAJTlx_",
        "outputId": "74681a35-c5d8-4429-b917-f5f2bae5712a"
      },
      "source": [
        "df2.show()"
      ],
      "execution_count": 77,
      "outputs": [
        {
          "output_type": "stream",
          "text": [
            "+-------------------+-----------+-------------------+----------------+---------------+-----------------+----------------+---------------+-------------------+\n",
            "|                key|fare_amount|    pickup_datetime|pickup_longitude|pickup_latitude|dropoff_longitude|dropoff_latitude|passenger_count|havershine_distance|\n",
            "+-------------------+-----------+-------------------+----------------+---------------+-----------------+----------------+---------------+-------------------+\n",
            "|2009-06-15 17:26:21|        4.5|2009-06-15 17:26:21|      -73.844311|      40.721319|        -73.84161|       40.712278|              1|            10.0557|\n",
            "|2010-01-05 16:52:16|       16.9|2010-01-05 16:52:16|      -74.016048|      40.711303|       -73.979268|       40.782004|              1|             78.677|\n",
            "|2011-08-18 00:35:00|        5.7|2011-08-18 00:35:00|      -73.982738|       40.76127|       -73.991242|       40.750562|              2|            11.9283|\n",
            "|2012-04-21 04:30:42|        7.7|2012-04-21 04:30:42|       -73.98713|      40.733143|       -73.991567|       40.758092|              1|            27.7445|\n",
            "|2010-03-09 07:51:00|        5.3|2010-03-09 07:51:00|      -73.968095|      40.768008|       -73.956655|       40.783762|              1|            17.5441|\n",
            "|2011-01-06 09:50:45|       12.1|2011-01-06 09:50:45|      -74.000964|       40.73163|       -73.972892|       40.758233|              1|            29.6756|\n",
            "|2012-11-20 20:35:00|        7.5|2012-11-20 20:35:00|      -73.980002|      40.751662|       -73.973802|       40.764842|              1|            14.6648|\n",
            "|2012-01-04 17:22:00|       16.5|2012-01-04 17:22:00|        -73.9513|      40.774138|       -73.990095|       40.751048|              1|             25.882|\n",
            "|2012-12-03 13:10:00|        9.0|2012-12-03 13:10:00|      -74.006462|      40.726713|       -73.993078|       40.731628|              1|             5.5804|\n",
            "|2009-09-02 01:11:00|        8.9|2009-09-02 01:11:00|      -73.980658|      40.733873|        -73.99154|       40.758138|              2|             26.997|\n",
            "|2012-04-08 07:30:50|        5.3|2012-04-08 07:30:50|      -73.996335|      40.737142|       -73.980721|       40.733559|              1|             4.1957|\n",
            "|2012-12-24 11:24:00|        5.5|2012-12-24 11:24:00|             0.0|            0.0|              0.0|             0.0|              3|                0.0|\n",
            "|2009-11-06 01:04:03|        4.1|2009-11-06 01:04:03|      -73.991601|      40.744712|       -73.983081|       40.744682|              2|             0.7185|\n",
            "|2013-07-02 19:54:00|        7.0|2013-07-02 19:54:00|       -74.00536|      40.728867|       -74.008913|       40.710907|              1|            19.9729|\n",
            "|2011-04-05 17:11:05|        7.7|2011-04-05 17:11:05|      -74.001821|      40.737547|        -73.99806|       40.722788|              2|            16.4143|\n",
            "|2013-11-23 12:57:00|        5.0|2013-11-23 12:57:00|             0.0|            0.0|              0.0|             0.0|              1|                0.0|\n",
            "|2014-02-19 07:22:00|       12.5|2014-02-19 07:22:00|       -73.98643|      40.760465|        -73.98899|       40.737075|              1|            26.0094|\n",
            "|2009-07-22 16:08:00|        5.3|2009-07-22 16:08:00|       -73.98106|       40.73769|       -73.994177|       40.728412|              1|            10.3757|\n",
            "|2010-07-07 14:52:00|        5.3|2010-07-07 14:52:00|      -73.969505|      40.784843|       -73.958732|       40.783357|              1|             1.8849|\n",
            "|2014-12-06 20:36:22|        4.0|2014-12-06 20:36:22|      -73.979815|      40.751902|       -73.979446|       40.755481|              1|             3.9798|\n",
            "+-------------------+-----------+-------------------+----------------+---------------+-----------------+----------------+---------------+-------------------+\n",
            "only showing top 20 rows\n",
            "\n"
          ],
          "name": "stdout"
        }
      ]
    },
    {
      "cell_type": "code",
      "metadata": {
        "id": "ZPh2A7riJipR"
      },
      "source": [
        "def manhattan_distance(lat1, lon1, lat2, lon2):\n",
        "  \"\"\"\n",
        "  Description:\n",
        "    Calculated the Havershine Distance between 2 points on a sphere given their longitudes and lattitudes.\n",
        "  Inputs:\n",
        "    - lng1: longitude of the first point\n",
        "    - lat1: latitude of the first point\n",
        "    - lng2: longitude of the second point\n",
        "    - lat2: latitude of the second point\n",
        "  Output:\n",
        "    - distance: FLoat\n",
        "  \"\"\"\n",
        "  # Pickup coordinates\n",
        "  p = np.stack([lat1, lon1], axis = 1)\n",
        "\n",
        "  # Dropoff coordinates\n",
        "  d = np.stack([lat2, lon2], axis = 1)\n",
        "\n",
        "  theta1 = np.radians(-28.904)\n",
        "  theta2 = np.radians(28.904)\n",
        "\n",
        "  ## Rotation matrix\n",
        "  R1 = np.array([[np.cos(theta1), np.sin(theta1)], \n",
        "                  [-np.sin(theta1), np.cos(theta1)]]\n",
        "                )\n",
        "  R2 = np.array([[np.cos(theta2), np.sin(theta2)], \n",
        "                  [-np.sin(theta2), np.cos(theta2)]]\n",
        "                )\n",
        "\n",
        "  # Rotate Pickup and Dropoff coordinates by -29 degress in World2\n",
        "  pT = R1 @ p.T  \n",
        "  dT = R1 @ d.T  \n",
        "\n",
        "  # Coordinates of Hinge point in the rotated world \n",
        "  vT = np.stack((pT[0,:], dT[1,:]))\n",
        "  # Coordinates of Hinge point in the real world \n",
        "  v = R2 @ vT\n",
        "  \"\"\" Finally,\n",
        "\n",
        "  Manhattan distance \n",
        "          = \n",
        "  Haversine dist between Pickup & Hingept\n",
        "          +\n",
        "  Haversine dist between Hinge pt & Dropoff location \n",
        "  \"\"\"\n",
        "\n",
        "  return (havershine_distance(p.T[0], p.T[1], v[0], v[1]) + \n",
        "          havershine_distance(v[0], v[1], d.T[0], d.T[1])\n",
        "          )"
      ],
      "execution_count": 78,
      "outputs": []
    },
    {
      "cell_type": "code",
      "metadata": {
        "id": "UCw2PEOCIX0t"
      },
      "source": [
        "def bearing_array(lat1, lng1, lat2, lng2): \n",
        "  \"\"\"\n",
        "  Description:\n",
        "    Calculated the Bearing between 2 points on a sphere given their longitudes and lattitudes.\n",
        "  Inputs:\n",
        "    - lng1: longitude of the first point\n",
        "    - lat1: latitude of the first point\n",
        "    - lng2: longitude of the second point\n",
        "    - lat2: latitude of the second point\n",
        "  Output:\n",
        "    - distance: FLoat\n",
        "  \"\"\"\n",
        "  from math import cos, sin, atan2, degrees, radians\n",
        "  AVG_EARTH_RADIUS = 6371 # in km \n",
        "  lng_delta_rad = radians(lng2 - lng1) \n",
        "  lat1, lng1, lat2, lng2 = map(radians, (lat1, lng1, lat2, lng2)) \n",
        "  y = sin(lng_delta_rad) * cos(lat2) \n",
        "  x = cos(lat1) * sin(lat2) - sin(lat1) * cos(lat2) * cos(lng_delta_rad) \n",
        "  return round(degrees(atan2(y, x)),4)"
      ],
      "execution_count": 19,
      "outputs": []
    },
    {
      "cell_type": "code",
      "metadata": {
        "id": "DjvGF21sRRvy",
        "outputId": "23f609a0-b295-4d3d-a4e2-a1d8011b8ad0",
        "colab": {
          "base_uri": "https://localhost:8080/"
        }
      },
      "source": [
        "udf_bearing = udf(bearing_array, DoubleType())\n",
        "df3 = df2.withColumn(\"bearing\", udf_bearing(df[\"pickup_latitude\"], df[\"pickup_longitude\"], df[\"dropoff_latitude\"], df[\"dropoff_longitude\"]))\n",
        "df3.show()"
      ],
      "execution_count": 26,
      "outputs": [
        {
          "output_type": "stream",
          "text": [
            "+-------------------+-----------+-------------------+----------------+---------------+-----------------+----------------+---------------+-------------------+---------+\n",
            "|                key|fare_amount|    pickup_datetime|pickup_longitude|pickup_latitude|dropoff_longitude|dropoff_latitude|passenger_count|havershine_distance|  bearing|\n",
            "+-------------------+-----------+-------------------+----------------+---------------+-----------------+----------------+---------------+-------------------+---------+\n",
            "|2009-06-15 17:26:21|        4.5|2009-06-15 17:26:21|      -73.844311|      40.721319|        -73.84161|       40.712278|              1|            10.0557| 167.2405|\n",
            "|2010-01-05 16:52:16|       16.9|2010-01-05 16:52:16|      -74.016048|      40.711303|       -73.979268|       40.782004|              1|             78.677|  21.4984|\n",
            "|2011-08-18 00:35:00|        5.7|2011-08-18 00:35:00|      -73.982738|       40.76127|       -73.991242|       40.750562|              2|            11.9283|-148.9668|\n",
            "|2012-04-21 04:30:42|        7.7|2012-04-21 04:30:42|       -73.98713|      40.733143|       -73.991567|       40.758092|              1|            27.7445|  -7.6722|\n",
            "|2010-03-09 07:51:00|        5.3|2010-03-09 07:51:00|      -73.968095|      40.768008|       -73.956655|       40.783762|              1|            17.5441|  28.8028|\n",
            "|2011-01-06 09:50:45|       12.1|2011-01-06 09:50:45|      -74.000964|       40.73163|       -73.972892|       40.758233|              1|            29.6756|  38.6317|\n",
            "|2012-11-20 20:35:00|        7.5|2012-11-20 20:35:00|      -73.980002|      40.751662|       -73.973802|       40.764842|              1|            14.6648|  19.6101|\n",
            "|2012-01-04 17:22:00|       16.5|2012-01-04 17:22:00|        -73.9513|      40.774138|       -73.990095|       40.751048|              1|             25.882|-128.1475|\n",
            "|2012-12-03 13:10:00|        9.0|2012-12-03 13:10:00|      -74.006462|      40.726713|       -73.993078|       40.731628|              1|             5.5804|  64.1409|\n",
            "|2009-09-02 01:11:00|        8.9|2009-09-02 01:11:00|      -73.980658|      40.733873|        -73.99154|       40.758138|              2|             26.997| -18.7622|\n",
            "|2012-04-08 07:30:50|        5.3|2012-04-08 07:30:50|      -73.996335|      40.737142|       -73.980721|       40.733559|              1|             4.1957| 106.8435|\n",
            "|2012-12-24 11:24:00|        5.5|2012-12-24 11:24:00|             0.0|            0.0|              0.0|             0.0|              3|                0.0|      0.0|\n",
            "|2009-11-06 01:04:03|        4.1|2009-11-06 01:04:03|      -73.991601|      40.744712|       -73.983081|       40.744682|              2|             0.7185|  90.2635|\n",
            "|2013-07-02 19:54:00|        7.0|2013-07-02 19:54:00|       -74.00536|      40.728867|       -74.008913|       40.710907|              1|            19.9729|-171.4717|\n",
            "|2011-04-05 17:11:05|        7.7|2011-04-05 17:11:05|      -74.001821|      40.737547|        -73.99806|       40.722788|              2|            16.4143| 169.0691|\n",
            "|2013-11-23 12:57:00|        5.0|2013-11-23 12:57:00|             0.0|            0.0|              0.0|             0.0|              1|                0.0|      0.0|\n",
            "|2014-02-19 07:22:00|       12.5|2014-02-19 07:22:00|       -73.98643|      40.760465|        -73.98899|       40.737075|              1|            26.0094|-175.2593|\n",
            "|2009-07-22 16:08:00|        5.3|2009-07-22 16:08:00|       -73.98106|       40.73769|       -73.994177|       40.728412|              1|            10.3757|-133.0242|\n",
            "|2010-07-07 14:52:00|        5.3|2010-07-07 14:52:00|      -73.969505|      40.784843|       -73.958732|       40.783357|              1|             1.8849|  100.321|\n",
            "|2014-12-06 20:36:22|        4.0|2014-12-06 20:36:22|      -73.979815|      40.751902|       -73.979446|       40.755481|              1|             3.9798|   4.4657|\n",
            "+-------------------+-----------+-------------------+----------------+---------------+-----------------+----------------+---------------+-------------------+---------+\n",
            "only showing top 20 rows\n",
            "\n"
          ],
          "name": "stdout"
        }
      ]
    },
    {
      "cell_type": "code",
      "metadata": {
        "id": "nL3Y5cB3RZkA"
      },
      "source": [
        "df3.createOrReplaceTempView('ny_taxi_features')"
      ],
      "execution_count": 27,
      "outputs": []
    },
    {
      "cell_type": "code",
      "metadata": {
        "colab": {
          "base_uri": "https://localhost:8080/"
        },
        "id": "AATFvE0XRd8R",
        "outputId": "4ea605b3-733c-45f9-d11a-d1463a32e98c"
      },
      "source": [
        "spark.sql(\"select * from ny_taxi_features\").show()"
      ],
      "execution_count": 82,
      "outputs": [
        {
          "output_type": "stream",
          "text": [
            "+-------------------+-----------+-------------------+----------------+---------------+-----------------+----------------+---------------+-------------------+---------+\n",
            "|                key|fare_amount|    pickup_datetime|pickup_longitude|pickup_latitude|dropoff_longitude|dropoff_latitude|passenger_count|havershine_distance|  bearing|\n",
            "+-------------------+-----------+-------------------+----------------+---------------+-----------------+----------------+---------------+-------------------+---------+\n",
            "|2009-06-15 17:26:21|        4.5|2009-06-15 17:26:21|      -73.844311|      40.721319|        -73.84161|       40.712278|              1|            10.0557| 167.2405|\n",
            "|2010-01-05 16:52:16|       16.9|2010-01-05 16:52:16|      -74.016048|      40.711303|       -73.979268|       40.782004|              1|             78.677|  21.4984|\n",
            "|2011-08-18 00:35:00|        5.7|2011-08-18 00:35:00|      -73.982738|       40.76127|       -73.991242|       40.750562|              2|            11.9283|-148.9668|\n",
            "|2012-04-21 04:30:42|        7.7|2012-04-21 04:30:42|       -73.98713|      40.733143|       -73.991567|       40.758092|              1|            27.7445|  -7.6722|\n",
            "|2010-03-09 07:51:00|        5.3|2010-03-09 07:51:00|      -73.968095|      40.768008|       -73.956655|       40.783762|              1|            17.5441|  28.8028|\n",
            "|2011-01-06 09:50:45|       12.1|2011-01-06 09:50:45|      -74.000964|       40.73163|       -73.972892|       40.758233|              1|            29.6756|  38.6317|\n",
            "|2012-11-20 20:35:00|        7.5|2012-11-20 20:35:00|      -73.980002|      40.751662|       -73.973802|       40.764842|              1|            14.6648|  19.6101|\n",
            "|2012-01-04 17:22:00|       16.5|2012-01-04 17:22:00|        -73.9513|      40.774138|       -73.990095|       40.751048|              1|             25.882|-128.1475|\n",
            "|2012-12-03 13:10:00|        9.0|2012-12-03 13:10:00|      -74.006462|      40.726713|       -73.993078|       40.731628|              1|             5.5804|  64.1409|\n",
            "|2009-09-02 01:11:00|        8.9|2009-09-02 01:11:00|      -73.980658|      40.733873|        -73.99154|       40.758138|              2|             26.997| -18.7622|\n",
            "|2012-04-08 07:30:50|        5.3|2012-04-08 07:30:50|      -73.996335|      40.737142|       -73.980721|       40.733559|              1|             4.1957| 106.8435|\n",
            "|2012-12-24 11:24:00|        5.5|2012-12-24 11:24:00|             0.0|            0.0|              0.0|             0.0|              3|                0.0|      0.0|\n",
            "|2009-11-06 01:04:03|        4.1|2009-11-06 01:04:03|      -73.991601|      40.744712|       -73.983081|       40.744682|              2|             0.7185|  90.2635|\n",
            "|2013-07-02 19:54:00|        7.0|2013-07-02 19:54:00|       -74.00536|      40.728867|       -74.008913|       40.710907|              1|            19.9729|-171.4717|\n",
            "|2011-04-05 17:11:05|        7.7|2011-04-05 17:11:05|      -74.001821|      40.737547|        -73.99806|       40.722788|              2|            16.4143| 169.0691|\n",
            "|2013-11-23 12:57:00|        5.0|2013-11-23 12:57:00|             0.0|            0.0|              0.0|             0.0|              1|                0.0|      0.0|\n",
            "|2014-02-19 07:22:00|       12.5|2014-02-19 07:22:00|       -73.98643|      40.760465|        -73.98899|       40.737075|              1|            26.0094|-175.2593|\n",
            "|2009-07-22 16:08:00|        5.3|2009-07-22 16:08:00|       -73.98106|       40.73769|       -73.994177|       40.728412|              1|            10.3757|-133.0242|\n",
            "|2010-07-07 14:52:00|        5.3|2010-07-07 14:52:00|      -73.969505|      40.784843|       -73.958732|       40.783357|              1|             1.8849|  100.321|\n",
            "|2014-12-06 20:36:22|        4.0|2014-12-06 20:36:22|      -73.979815|      40.751902|       -73.979446|       40.755481|              1|             3.9798|   4.4657|\n",
            "+-------------------+-----------+-------------------+----------------+---------------+-----------------+----------------+---------------+-------------------+---------+\n",
            "only showing top 20 rows\n",
            "\n"
          ],
          "name": "stdout"
        }
      ]
    },
    {
      "cell_type": "code",
      "metadata": {
        "id": "V2ZTeqsmsSB-"
      },
      "source": [
        "rqt = \"select \" +\\\n",
        "      \"date_format(nt.pickup_datetime, 'd') as pickup_day, \" +\\\n",
        "      \"date_format(nt.pickup_datetime, 'M') as pickup_month, \" +\\\n",
        "      \"date_format(nt.pickup_datetime, 'y') as pickup_year, \" +\\\n",
        "      \"date_format(nt.pickup_datetime, 'H') as pickup_hour, \" +\\\n",
        "      \"date_format(nt.pickup_datetime, 'm') as pickup_minute, \" +\\\n",
        "      \"dayofweek(nt.pickup_datetime) as pickup_day_of_week, \" +\\\n",
        "      \"nt.passenger_count as passenger_count, \" +\\\n",
        "      \"nt.havershine_distance as havershine_distance, \" +\\\n",
        "      \"nt.bearing as bearing, \" +\\\n",
        "      \"nt.fare_amount as fare_amount \" +\\\n",
        "      \"from ny_taxi_features nt\"\n",
        "df_final = spark.sql(rqt)"
      ],
      "execution_count": 28,
      "outputs": []
    },
    {
      "cell_type": "code",
      "metadata": {
        "id": "ShPHLksVRkg5"
      },
      "source": [
        "df_final.createOrReplaceTempView(\"df_final\")"
      ],
      "execution_count": 29,
      "outputs": []
    },
    {
      "cell_type": "code",
      "metadata": {
        "id": "Vn3_R0SivIyT",
        "outputId": "29bd09b4-69b7-4824-a1ab-79ec05220576",
        "colab": {
          "base_uri": "https://localhost:8080/"
        }
      },
      "source": [
        "spark.sql(\"select * from df_final\").show()"
      ],
      "execution_count": 30,
      "outputs": [
        {
          "output_type": "stream",
          "text": [
            "+----------+------------+-----------+-----------+-------------+------------------+---------------+-------------------+---------+-----------+\n",
            "|pickup_day|pickup_month|pickup_year|pickup_hour|pickup_minute|pickup_day_of_week|passenger_count|havershine_distance|  bearing|fare_amount|\n",
            "+----------+------------+-----------+-----------+-------------+------------------+---------------+-------------------+---------+-----------+\n",
            "|        15|           6|       2009|         17|           26|                 2|              1|            10.0557| 167.2405|        4.5|\n",
            "|         5|           1|       2010|         16|           52|                 3|              1|             78.677|  21.4984|       16.9|\n",
            "|        18|           8|       2011|          0|           35|                 5|              2|            11.9283|-148.9668|        5.7|\n",
            "|        21|           4|       2012|          4|           30|                 7|              1|            27.7445|  -7.6722|        7.7|\n",
            "|         9|           3|       2010|          7|           51|                 3|              1|            17.5441|  28.8028|        5.3|\n",
            "|         6|           1|       2011|          9|           50|                 5|              1|            29.6756|  38.6317|       12.1|\n",
            "|        20|          11|       2012|         20|           35|                 3|              1|            14.6648|  19.6101|        7.5|\n",
            "|         4|           1|       2012|         17|           22|                 4|              1|             25.882|-128.1475|       16.5|\n",
            "|         3|          12|       2012|         13|           10|                 2|              1|             5.5804|  64.1409|        9.0|\n",
            "|         2|           9|       2009|          1|           11|                 4|              2|             26.997| -18.7622|        8.9|\n",
            "|         8|           4|       2012|          7|           30|                 1|              1|             4.1957| 106.8435|        5.3|\n",
            "|        24|          12|       2012|         11|           24|                 2|              3|                0.0|      0.0|        5.5|\n",
            "|         6|          11|       2009|          1|            4|                 6|              2|             0.7185|  90.2635|        4.1|\n",
            "|         2|           7|       2013|         19|           54|                 3|              1|            19.9729|-171.4717|        7.0|\n",
            "|         5|           4|       2011|         17|           11|                 3|              2|            16.4143| 169.0691|        7.7|\n",
            "|        23|          11|       2013|         12|           57|                 7|              1|                0.0|      0.0|        5.0|\n",
            "|        19|           2|       2014|          7|           22|                 4|              1|            26.0094|-175.2593|       12.5|\n",
            "|        22|           7|       2009|         16|            8|                 4|              1|            10.3757|-133.0242|        5.3|\n",
            "|         7|           7|       2010|         14|           52|                 4|              1|             1.8849|  100.321|        5.3|\n",
            "|         6|          12|       2014|         20|           36|                 7|              1|             3.9798|   4.4657|        4.0|\n",
            "+----------+------------+-----------+-----------+-------------+------------------+---------------+-------------------+---------+-----------+\n",
            "only showing top 20 rows\n",
            "\n"
          ],
          "name": "stdout"
        }
      ]
    },
    {
      "cell_type": "code",
      "metadata": {
        "id": "PIn84s6ywMDk"
      },
      "source": [
        "df_pd = df_final.sample(withReplacement=False, fraction=0.001, seed=1).toPandas()"
      ],
      "execution_count": 31,
      "outputs": []
    },
    {
      "cell_type": "code",
      "metadata": {
        "id": "C3V11icUx1Ez",
        "outputId": "17acc21f-e755-46dc-bab8-5dcdf17152a1",
        "colab": {
          "base_uri": "https://localhost:8080/",
          "height": 419
        }
      },
      "source": [
        "df_pd"
      ],
      "execution_count": 32,
      "outputs": [
        {
          "output_type": "execute_result",
          "data": {
            "text/html": [
              "<div>\n",
              "<style scoped>\n",
              "    .dataframe tbody tr th:only-of-type {\n",
              "        vertical-align: middle;\n",
              "    }\n",
              "\n",
              "    .dataframe tbody tr th {\n",
              "        vertical-align: top;\n",
              "    }\n",
              "\n",
              "    .dataframe thead th {\n",
              "        text-align: right;\n",
              "    }\n",
              "</style>\n",
              "<table border=\"1\" class=\"dataframe\">\n",
              "  <thead>\n",
              "    <tr style=\"text-align: right;\">\n",
              "      <th></th>\n",
              "      <th>pickup_day</th>\n",
              "      <th>pickup_month</th>\n",
              "      <th>pickup_year</th>\n",
              "      <th>pickup_hour</th>\n",
              "      <th>pickup_minute</th>\n",
              "      <th>pickup_day_of_week</th>\n",
              "      <th>passenger_count</th>\n",
              "      <th>havershine_distance</th>\n",
              "      <th>bearing</th>\n",
              "      <th>fare_amount</th>\n",
              "    </tr>\n",
              "  </thead>\n",
              "  <tbody>\n",
              "    <tr>\n",
              "      <th>0</th>\n",
              "      <td>23</td>\n",
              "      <td>11</td>\n",
              "      <td>2013</td>\n",
              "      <td>12</td>\n",
              "      <td>57</td>\n",
              "      <td>7</td>\n",
              "      <td>1</td>\n",
              "      <td>0.0000</td>\n",
              "      <td>0.0000</td>\n",
              "      <td>5.00</td>\n",
              "    </tr>\n",
              "    <tr>\n",
              "      <th>1</th>\n",
              "      <td>27</td>\n",
              "      <td>8</td>\n",
              "      <td>2013</td>\n",
              "      <td>13</td>\n",
              "      <td>28</td>\n",
              "      <td>3</td>\n",
              "      <td>1</td>\n",
              "      <td>29.8085</td>\n",
              "      <td>-157.7391</td>\n",
              "      <td>9.50</td>\n",
              "    </tr>\n",
              "    <tr>\n",
              "      <th>2</th>\n",
              "      <td>6</td>\n",
              "      <td>10</td>\n",
              "      <td>2013</td>\n",
              "      <td>11</td>\n",
              "      <td>2</td>\n",
              "      <td>1</td>\n",
              "      <td>5</td>\n",
              "      <td>9.2891</td>\n",
              "      <td>142.8629</td>\n",
              "      <td>5.50</td>\n",
              "    </tr>\n",
              "    <tr>\n",
              "      <th>3</th>\n",
              "      <td>17</td>\n",
              "      <td>1</td>\n",
              "      <td>2009</td>\n",
              "      <td>0</td>\n",
              "      <td>15</td>\n",
              "      <td>7</td>\n",
              "      <td>2</td>\n",
              "      <td>22.0458</td>\n",
              "      <td>-136.0698</td>\n",
              "      <td>9.00</td>\n",
              "    </tr>\n",
              "    <tr>\n",
              "      <th>4</th>\n",
              "      <td>12</td>\n",
              "      <td>10</td>\n",
              "      <td>2009</td>\n",
              "      <td>21</td>\n",
              "      <td>33</td>\n",
              "      <td>2</td>\n",
              "      <td>1</td>\n",
              "      <td>10.4000</td>\n",
              "      <td>50.0435</td>\n",
              "      <td>5.70</td>\n",
              "    </tr>\n",
              "    <tr>\n",
              "      <th>...</th>\n",
              "      <td>...</td>\n",
              "      <td>...</td>\n",
              "      <td>...</td>\n",
              "      <td>...</td>\n",
              "      <td>...</td>\n",
              "      <td>...</td>\n",
              "      <td>...</td>\n",
              "      <td>...</td>\n",
              "      <td>...</td>\n",
              "      <td>...</td>\n",
              "    </tr>\n",
              "    <tr>\n",
              "      <th>55135</th>\n",
              "      <td>20</td>\n",
              "      <td>1</td>\n",
              "      <td>2013</td>\n",
              "      <td>1</td>\n",
              "      <td>20</td>\n",
              "      <td>1</td>\n",
              "      <td>1</td>\n",
              "      <td>17.3359</td>\n",
              "      <td>14.9119</td>\n",
              "      <td>7.50</td>\n",
              "    </tr>\n",
              "    <tr>\n",
              "      <th>55136</th>\n",
              "      <td>18</td>\n",
              "      <td>1</td>\n",
              "      <td>2010</td>\n",
              "      <td>15</td>\n",
              "      <td>54</td>\n",
              "      <td>2</td>\n",
              "      <td>1</td>\n",
              "      <td>8.7214</td>\n",
              "      <td>-5.4537</td>\n",
              "      <td>49.57</td>\n",
              "    </tr>\n",
              "    <tr>\n",
              "      <th>55137</th>\n",
              "      <td>15</td>\n",
              "      <td>3</td>\n",
              "      <td>2012</td>\n",
              "      <td>12</td>\n",
              "      <td>27</td>\n",
              "      <td>5</td>\n",
              "      <td>1</td>\n",
              "      <td>10.0989</td>\n",
              "      <td>176.7355</td>\n",
              "      <td>4.90</td>\n",
              "    </tr>\n",
              "    <tr>\n",
              "      <th>55138</th>\n",
              "      <td>6</td>\n",
              "      <td>2</td>\n",
              "      <td>2012</td>\n",
              "      <td>11</td>\n",
              "      <td>54</td>\n",
              "      <td>2</td>\n",
              "      <td>1</td>\n",
              "      <td>15.7762</td>\n",
              "      <td>16.0035</td>\n",
              "      <td>6.10</td>\n",
              "    </tr>\n",
              "    <tr>\n",
              "      <th>55139</th>\n",
              "      <td>27</td>\n",
              "      <td>11</td>\n",
              "      <td>2009</td>\n",
              "      <td>18</td>\n",
              "      <td>48</td>\n",
              "      <td>6</td>\n",
              "      <td>2</td>\n",
              "      <td>50.0817</td>\n",
              "      <td>34.2997</td>\n",
              "      <td>10.50</td>\n",
              "    </tr>\n",
              "  </tbody>\n",
              "</table>\n",
              "<p>55140 rows × 10 columns</p>\n",
              "</div>"
            ],
            "text/plain": [
              "      pickup_day pickup_month  ...   bearing fare_amount\n",
              "0             23           11  ...    0.0000        5.00\n",
              "1             27            8  ... -157.7391        9.50\n",
              "2              6           10  ...  142.8629        5.50\n",
              "3             17            1  ... -136.0698        9.00\n",
              "4             12           10  ...   50.0435        5.70\n",
              "...          ...          ...  ...       ...         ...\n",
              "55135         20            1  ...   14.9119        7.50\n",
              "55136         18            1  ...   -5.4537       49.57\n",
              "55137         15            3  ...  176.7355        4.90\n",
              "55138          6            2  ...   16.0035        6.10\n",
              "55139         27           11  ...   34.2997       10.50\n",
              "\n",
              "[55140 rows x 10 columns]"
            ]
          },
          "metadata": {
            "tags": []
          },
          "execution_count": 32
        }
      ]
    },
    {
      "cell_type": "code",
      "metadata": {
        "id": "h16rpK7EkLeb",
        "outputId": "998bef7e-941e-47d4-b665-48185dde32a4",
        "colab": {
          "base_uri": "https://localhost:8080/"
        }
      },
      "source": [
        "df_pd.info()"
      ],
      "execution_count": 33,
      "outputs": [
        {
          "output_type": "stream",
          "text": [
            "<class 'pandas.core.frame.DataFrame'>\n",
            "RangeIndex: 55140 entries, 0 to 55139\n",
            "Data columns (total 10 columns):\n",
            " #   Column               Non-Null Count  Dtype  \n",
            "---  ------               --------------  -----  \n",
            " 0   pickup_day           55140 non-null  object \n",
            " 1   pickup_month         55140 non-null  object \n",
            " 2   pickup_year          55140 non-null  object \n",
            " 3   pickup_hour          55140 non-null  object \n",
            " 4   pickup_minute        55140 non-null  object \n",
            " 5   pickup_day_of_week   55140 non-null  int32  \n",
            " 6   passenger_count      55140 non-null  int32  \n",
            " 7   havershine_distance  55140 non-null  float64\n",
            " 8   bearing              55140 non-null  float64\n",
            " 9   fare_amount          55140 non-null  float64\n",
            "dtypes: float64(3), int32(2), object(5)\n",
            "memory usage: 3.8+ MB\n"
          ],
          "name": "stdout"
        }
      ]
    },
    {
      "cell_type": "code",
      "metadata": {
        "id": "lSSXO4-NkOM9",
        "outputId": "bef20d3c-57cd-479f-e07c-21f73a6589f4",
        "colab": {
          "base_uri": "https://localhost:8080/",
          "height": 297
        }
      },
      "source": [
        "df_pd.describe()"
      ],
      "execution_count": 35,
      "outputs": [
        {
          "output_type": "execute_result",
          "data": {
            "text/html": [
              "<div>\n",
              "<style scoped>\n",
              "    .dataframe tbody tr th:only-of-type {\n",
              "        vertical-align: middle;\n",
              "    }\n",
              "\n",
              "    .dataframe tbody tr th {\n",
              "        vertical-align: top;\n",
              "    }\n",
              "\n",
              "    .dataframe thead th {\n",
              "        text-align: right;\n",
              "    }\n",
              "</style>\n",
              "<table border=\"1\" class=\"dataframe\">\n",
              "  <thead>\n",
              "    <tr style=\"text-align: right;\">\n",
              "      <th></th>\n",
              "      <th>pickup_day_of_week</th>\n",
              "      <th>passenger_count</th>\n",
              "      <th>havershine_distance</th>\n",
              "      <th>bearing</th>\n",
              "      <th>fare_amount</th>\n",
              "    </tr>\n",
              "  </thead>\n",
              "  <tbody>\n",
              "    <tr>\n",
              "      <th>count</th>\n",
              "      <td>55140.000000</td>\n",
              "      <td>55140.000000</td>\n",
              "      <td>55140.000000</td>\n",
              "      <td>55140.000000</td>\n",
              "      <td>55140.000000</td>\n",
              "    </tr>\n",
              "    <tr>\n",
              "      <th>mean</th>\n",
              "      <td>4.129325</td>\n",
              "      <td>1.699565</td>\n",
              "      <td>41.572712</td>\n",
              "      <td>-17.564619</td>\n",
              "      <td>11.398237</td>\n",
              "    </tr>\n",
              "    <tr>\n",
              "      <th>std</th>\n",
              "      <td>1.989621</td>\n",
              "      <td>1.320830</td>\n",
              "      <td>391.658520</td>\n",
              "      <td>103.524936</td>\n",
              "      <td>9.924255</td>\n",
              "    </tr>\n",
              "    <tr>\n",
              "      <th>min</th>\n",
              "      <td>1.000000</td>\n",
              "      <td>0.000000</td>\n",
              "      <td>0.000000</td>\n",
              "      <td>-179.993900</td>\n",
              "      <td>-14.500000</td>\n",
              "    </tr>\n",
              "    <tr>\n",
              "      <th>25%</th>\n",
              "      <td>2.000000</td>\n",
              "      <td>1.000000</td>\n",
              "      <td>7.587775</td>\n",
              "      <td>-126.644600</td>\n",
              "      <td>6.000000</td>\n",
              "    </tr>\n",
              "    <tr>\n",
              "      <th>50%</th>\n",
              "      <td>4.000000</td>\n",
              "      <td>1.000000</td>\n",
              "      <td>15.654200</td>\n",
              "      <td>2.369850</td>\n",
              "      <td>8.500000</td>\n",
              "    </tr>\n",
              "    <tr>\n",
              "      <th>75%</th>\n",
              "      <td>6.000000</td>\n",
              "      <td>2.000000</td>\n",
              "      <td>30.457300</td>\n",
              "      <td>48.110175</td>\n",
              "      <td>12.500000</td>\n",
              "    </tr>\n",
              "    <tr>\n",
              "      <th>max</th>\n",
              "      <td>7.000000</td>\n",
              "      <td>6.000000</td>\n",
              "      <td>10814.334000</td>\n",
              "      <td>180.000000</td>\n",
              "      <td>255.000000</td>\n",
              "    </tr>\n",
              "  </tbody>\n",
              "</table>\n",
              "</div>"
            ],
            "text/plain": [
              "       pickup_day_of_week  passenger_count  ...       bearing   fare_amount\n",
              "count        55140.000000     55140.000000  ...  55140.000000  55140.000000\n",
              "mean             4.129325         1.699565  ...    -17.564619     11.398237\n",
              "std              1.989621         1.320830  ...    103.524936      9.924255\n",
              "min              1.000000         0.000000  ...   -179.993900    -14.500000\n",
              "25%              2.000000         1.000000  ...   -126.644600      6.000000\n",
              "50%              4.000000         1.000000  ...      2.369850      8.500000\n",
              "75%              6.000000         2.000000  ...     48.110175     12.500000\n",
              "max              7.000000         6.000000  ...    180.000000    255.000000\n",
              "\n",
              "[8 rows x 5 columns]"
            ]
          },
          "metadata": {
            "tags": []
          },
          "execution_count": 35
        }
      ]
    },
    {
      "cell_type": "code",
      "metadata": {
        "id": "jBKhClvokQY7",
        "outputId": "76db779a-2c22-4461-9d33-9991bf710ce6",
        "colab": {
          "base_uri": "https://localhost:8080/",
          "height": 766
        }
      },
      "source": [
        "pd.plotting.scatter_matrix(df_pd)"
      ],
      "execution_count": 38,
      "outputs": [
        {
          "output_type": "execute_result",
          "data": {
            "text/plain": [
              "array([[<matplotlib.axes._subplots.AxesSubplot object at 0x7fde5ca7bfd0>,\n",
              "        <matplotlib.axes._subplots.AxesSubplot object at 0x7fde5b733b90>,\n",
              "        <matplotlib.axes._subplots.AxesSubplot object at 0x7fde5b6a1210>,\n",
              "        <matplotlib.axes._subplots.AxesSubplot object at 0x7fde5b5b6890>,\n",
              "        <matplotlib.axes._subplots.AxesSubplot object at 0x7fde5b54df10>],\n",
              "       [<matplotlib.axes._subplots.AxesSubplot object at 0x7fde5b4365d0>,\n",
              "        <matplotlib.axes._subplots.AxesSubplot object at 0x7fde5b38dcd0>,\n",
              "        <matplotlib.axes._subplots.AxesSubplot object at 0x7fde5b2362d0>,\n",
              "        <matplotlib.axes._subplots.AxesSubplot object at 0x7fde5b236310>,\n",
              "        <matplotlib.axes._subplots.AxesSubplot object at 0x7fde5b1cba90>],\n",
              "       [<matplotlib.axes._subplots.AxesSubplot object at 0x7fde5b0076d0>,\n",
              "        <matplotlib.axes._subplots.AxesSubplot object at 0x7fde5afa1d50>,\n",
              "        <matplotlib.axes._subplots.AxesSubplot object at 0x7fde5aecb410>,\n",
              "        <matplotlib.axes._subplots.AxesSubplot object at 0x7fde5addea90>,\n",
              "        <matplotlib.axes._subplots.AxesSubplot object at 0x7fde5bf86150>],\n",
              "       [<matplotlib.axes._subplots.AxesSubplot object at 0x7fde5c8977d0>,\n",
              "        <matplotlib.axes._subplots.AxesSubplot object at 0x7fde5cceee90>,\n",
              "        <matplotlib.axes._subplots.AxesSubplot object at 0x7fde5cc93590>,\n",
              "        <matplotlib.axes._subplots.AxesSubplot object at 0x7fde5cae5c10>,\n",
              "        <matplotlib.axes._subplots.AxesSubplot object at 0x7fde5cacc2d0>],\n",
              "       [<matplotlib.axes._subplots.AxesSubplot object at 0x7fde5ca60950>,\n",
              "        <matplotlib.axes._subplots.AxesSubplot object at 0x7fde5c9a4b10>,\n",
              "        <matplotlib.axes._subplots.AxesSubplot object at 0x7fde5c75b690>,\n",
              "        <matplotlib.axes._subplots.AxesSubplot object at 0x7fde5c5edd10>,\n",
              "        <matplotlib.axes._subplots.AxesSubplot object at 0x7fde5c5943d0>]],\n",
              "      dtype=object)"
            ]
          },
          "metadata": {
            "tags": []
          },
          "execution_count": 38
        },
        {
          "output_type": "display_data",
          "data": {
            "image/png": "[encoded data removed]",
            "text/plain": [
              "<Figure size 432x288 with 25 Axes>"
            ]
          },
          "metadata": {
            "tags": [],
            "needs_background": "light"
          }
        }
      ]
    },
    {
      "cell_type": "code",
      "metadata": {
        "id": "tleMmhKfkYoT",
        "outputId": "9b6e6ed6-3013-4624-f04a-25c8e1c71dfc",
        "colab": {
          "base_uri": "https://localhost:8080/",
          "height": 145
        }
      },
      "source": [
        "corr = df_pd.corr()\n",
        "corr.style.background_gradient()"
      ],
      "execution_count": 44,
      "outputs": [
        {
          "output_type": "execute_result",
          "data": {
            "text/html": [
              "<style  type=\"text/css\" >\n",
              "#T_57210388_b4a5_11eb_8f1f_0242ac1c0002row0_col0,#T_57210388_b4a5_11eb_8f1f_0242ac1c0002row1_col1,#T_57210388_b4a5_11eb_8f1f_0242ac1c0002row2_col2,#T_57210388_b4a5_11eb_8f1f_0242ac1c0002row3_col3,#T_57210388_b4a5_11eb_8f1f_0242ac1c0002row4_col4{\n",
              "            background-color:  #023858;\n",
              "            color:  #f1f1f1;\n",
              "        }#T_57210388_b4a5_11eb_8f1f_0242ac1c0002row0_col1,#T_57210388_b4a5_11eb_8f1f_0242ac1c0002row2_col1{\n",
              "            background-color:  #fef6fa;\n",
              "            color:  #000000;\n",
              "        }#T_57210388_b4a5_11eb_8f1f_0242ac1c0002row0_col2,#T_57210388_b4a5_11eb_8f1f_0242ac1c0002row0_col3,#T_57210388_b4a5_11eb_8f1f_0242ac1c0002row0_col4,#T_57210388_b4a5_11eb_8f1f_0242ac1c0002row1_col3,#T_57210388_b4a5_11eb_8f1f_0242ac1c0002row3_col1,#T_57210388_b4a5_11eb_8f1f_0242ac1c0002row4_col0{\n",
              "            background-color:  #fff7fb;\n",
              "            color:  #000000;\n",
              "        }#T_57210388_b4a5_11eb_8f1f_0242ac1c0002row1_col0,#T_57210388_b4a5_11eb_8f1f_0242ac1c0002row3_col2{\n",
              "            background-color:  #fcf4fa;\n",
              "            color:  #000000;\n",
              "        }#T_57210388_b4a5_11eb_8f1f_0242ac1c0002row1_col2{\n",
              "            background-color:  #fef6fb;\n",
              "            color:  #000000;\n",
              "        }#T_57210388_b4a5_11eb_8f1f_0242ac1c0002row1_col4{\n",
              "            background-color:  #faf2f8;\n",
              "            color:  #000000;\n",
              "        }#T_57210388_b4a5_11eb_8f1f_0242ac1c0002row2_col0,#T_57210388_b4a5_11eb_8f1f_0242ac1c0002row3_col0{\n",
              "            background-color:  #fdf5fa;\n",
              "            color:  #000000;\n",
              "        }#T_57210388_b4a5_11eb_8f1f_0242ac1c0002row2_col3,#T_57210388_b4a5_11eb_8f1f_0242ac1c0002row4_col3{\n",
              "            background-color:  #fbf3f9;\n",
              "            color:  #000000;\n",
              "        }#T_57210388_b4a5_11eb_8f1f_0242ac1c0002row2_col4{\n",
              "            background-color:  #f2ecf5;\n",
              "            color:  #000000;\n",
              "        }#T_57210388_b4a5_11eb_8f1f_0242ac1c0002row3_col4{\n",
              "            background-color:  #f9f2f8;\n",
              "            color:  #000000;\n",
              "        }#T_57210388_b4a5_11eb_8f1f_0242ac1c0002row4_col1{\n",
              "            background-color:  #fbf4f9;\n",
              "            color:  #000000;\n",
              "        }#T_57210388_b4a5_11eb_8f1f_0242ac1c0002row4_col2{\n",
              "            background-color:  #f4eef6;\n",
              "            color:  #000000;\n",
              "        }</style><table id=\"T_57210388_b4a5_11eb_8f1f_0242ac1c0002\" ><thead>    <tr>        <th class=\"blank level0\" ></th>        <th class=\"col_heading level0 col0\" >pickup_day_of_week</th>        <th class=\"col_heading level0 col1\" >passenger_count</th>        <th class=\"col_heading level0 col2\" >havershine_distance</th>        <th class=\"col_heading level0 col3\" >bearing</th>        <th class=\"col_heading level0 col4\" >fare_amount</th>    </tr></thead><tbody>\n",
              "                <tr>\n",
              "                        <th id=\"T_57210388_b4a5_11eb_8f1f_0242ac1c0002level0_row0\" class=\"row_heading level0 row0\" >pickup_day_of_week</th>\n",
              "                        <td id=\"T_57210388_b4a5_11eb_8f1f_0242ac1c0002row0_col0\" class=\"data row0 col0\" >1.000000</td>\n",
              "                        <td id=\"T_57210388_b4a5_11eb_8f1f_0242ac1c0002row0_col1\" class=\"data row0 col1\" >0.004088</td>\n",
              "                        <td id=\"T_57210388_b4a5_11eb_8f1f_0242ac1c0002row0_col2\" class=\"data row0 col2\" >-0.001531</td>\n",
              "                        <td id=\"T_57210388_b4a5_11eb_8f1f_0242ac1c0002row0_col3\" class=\"data row0 col3\" >-0.006663</td>\n",
              "                        <td id=\"T_57210388_b4a5_11eb_8f1f_0242ac1c0002row0_col4\" class=\"data row0 col4\" >-0.019245</td>\n",
              "            </tr>\n",
              "            <tr>\n",
              "                        <th id=\"T_57210388_b4a5_11eb_8f1f_0242ac1c0002level0_row1\" class=\"row_heading level0 row1\" >passenger_count</th>\n",
              "                        <td id=\"T_57210388_b4a5_11eb_8f1f_0242ac1c0002row1_col0\" class=\"data row1 col0\" >0.004088</td>\n",
              "                        <td id=\"T_57210388_b4a5_11eb_8f1f_0242ac1c0002row1_col1\" class=\"data row1 col1\" >1.000000</td>\n",
              "                        <td id=\"T_57210388_b4a5_11eb_8f1f_0242ac1c0002row1_col2\" class=\"data row1 col2\" >0.004001</td>\n",
              "                        <td id=\"T_57210388_b4a5_11eb_8f1f_0242ac1c0002row1_col3\" class=\"data row1 col3\" >-0.007067</td>\n",
              "                        <td id=\"T_57210388_b4a5_11eb_8f1f_0242ac1c0002row1_col4\" class=\"data row1 col4\" >0.018954</td>\n",
              "            </tr>\n",
              "            <tr>\n",
              "                        <th id=\"T_57210388_b4a5_11eb_8f1f_0242ac1c0002level0_row2\" class=\"row_heading level0 row2\" >havershine_distance</th>\n",
              "                        <td id=\"T_57210388_b4a5_11eb_8f1f_0242ac1c0002row2_col0\" class=\"data row2 col0\" >-0.001531</td>\n",
              "                        <td id=\"T_57210388_b4a5_11eb_8f1f_0242ac1c0002row2_col1\" class=\"data row2 col1\" >0.004001</td>\n",
              "                        <td id=\"T_57210388_b4a5_11eb_8f1f_0242ac1c0002row2_col2\" class=\"data row2 col2\" >1.000000</td>\n",
              "                        <td id=\"T_57210388_b4a5_11eb_8f1f_0242ac1c0002row2_col3\" class=\"data row2 col3\" >0.020828</td>\n",
              "                        <td id=\"T_57210388_b4a5_11eb_8f1f_0242ac1c0002row2_col4\" class=\"data row2 col4\" >0.068910</td>\n",
              "            </tr>\n",
              "            <tr>\n",
              "                        <th id=\"T_57210388_b4a5_11eb_8f1f_0242ac1c0002level0_row3\" class=\"row_heading level0 row3\" >bearing</th>\n",
              "                        <td id=\"T_57210388_b4a5_11eb_8f1f_0242ac1c0002row3_col0\" class=\"data row3 col0\" >-0.006663</td>\n",
              "                        <td id=\"T_57210388_b4a5_11eb_8f1f_0242ac1c0002row3_col1\" class=\"data row3 col1\" >-0.007067</td>\n",
              "                        <td id=\"T_57210388_b4a5_11eb_8f1f_0242ac1c0002row3_col2\" class=\"data row3 col2\" >0.020828</td>\n",
              "                        <td id=\"T_57210388_b4a5_11eb_8f1f_0242ac1c0002row3_col3\" class=\"data row3 col3\" >1.000000</td>\n",
              "                        <td id=\"T_57210388_b4a5_11eb_8f1f_0242ac1c0002row3_col4\" class=\"data row3 col4\" >0.022923</td>\n",
              "            </tr>\n",
              "            <tr>\n",
              "                        <th id=\"T_57210388_b4a5_11eb_8f1f_0242ac1c0002level0_row4\" class=\"row_heading level0 row4\" >fare_amount</th>\n",
              "                        <td id=\"T_57210388_b4a5_11eb_8f1f_0242ac1c0002row4_col0\" class=\"data row4 col0\" >-0.019245</td>\n",
              "                        <td id=\"T_57210388_b4a5_11eb_8f1f_0242ac1c0002row4_col1\" class=\"data row4 col1\" >0.018954</td>\n",
              "                        <td id=\"T_57210388_b4a5_11eb_8f1f_0242ac1c0002row4_col2\" class=\"data row4 col2\" >0.068910</td>\n",
              "                        <td id=\"T_57210388_b4a5_11eb_8f1f_0242ac1c0002row4_col3\" class=\"data row4 col3\" >0.022923</td>\n",
              "                        <td id=\"T_57210388_b4a5_11eb_8f1f_0242ac1c0002row4_col4\" class=\"data row4 col4\" >1.000000</td>\n",
              "            </tr>\n",
              "    </tbody></table>"
            ],
            "text/plain": [
              "<pandas.io.formats.style.Styler at 0x7fde5b85bb90>"
            ]
          },
          "metadata": {
            "tags": []
          },
          "execution_count": 44
        }
      ]
    },
    {
      "cell_type": "code",
      "metadata": {
        "id": "ZflzuziMkx6J",
        "outputId": "7ca31aeb-dab4-42a5-9af4-af0a4678a016",
        "colab": {
          "base_uri": "https://localhost:8080/",
          "height": 282
        }
      },
      "source": [
        "plt.scatter(df_pd[\"havershine_distance\"], df_pd[\"fare_amount\"])"
      ],
      "execution_count": 46,
      "outputs": [
        {
          "output_type": "execute_result",
          "data": {
            "text/plain": [
              "<matplotlib.collections.PathCollection at 0x7fde5adeb890>"
            ]
          },
          "metadata": {
            "tags": []
          },
          "execution_count": 46
        },
        {
          "output_type": "display_data",
          "data": {
            "image/png": "[encoded data removed]",
            "text/plain": [
              "<Figure size 432x288 with 1 Axes>"
            ]
          },
          "metadata": {
            "tags": [],
            "needs_background": "light"
          }
        }
      ]
    },
    {
      "cell_type": "markdown",
      "metadata": {
        "id": "z9Fz6cSC4DLp"
      },
      "source": [
        "# PySpark ML Pipeline\n"
      ]
    },
    {
      "cell_type": "code",
      "metadata": {
        "id": "bKdroM3DC8iu"
      },
      "source": [
        "schema = StructType([\n",
        "          StructField(\"key\", TimestampType(), True),\n",
        "          StructField(\"fare_amount\", DoubleType(), True),\n",
        "          StructField(\"pickup_datetime\", TimestampType(), True),\n",
        "          StructField(\"pickup_longitude\", DoubleType(), True),\n",
        "          StructField(\"pickup_latitude\", DoubleType(), True),\n",
        "          StructField(\"dropoff_longitude\", DoubleType(), True),\n",
        "          StructField(\"dropoff_latitude\", DoubleType(), True),\n",
        "          StructField(\"passenger_count\", IntegerType(), True)\n",
        "])\n",
        "          \n",
        "\n",
        "df = spark.read.csv(\"taxi_data/train.csv\", header=True, schema=schema, enforceSchema=True, timestampFormat=\"yyyy-MM-dd HH:mm:ss\")"
      ],
      "execution_count": 20,
      "outputs": []
    },
    {
      "cell_type": "code",
      "metadata": {
        "id": "viLn4-xq9Kt_"
      },
      "source": [
        "from pyspark import keyword_only\n",
        "from pyspark.ml.param.shared import HasInputCol, HasOutputCol, Param, Params, TypeConverters\n",
        "from pyspark.ml.util import DefaultParamsReadable, DefaultParamsWritable\n",
        "from pyspark.ml import Transformer\n",
        "\n",
        "class CustomTransfomer(Transformer, HasInputCol, HasOutputCol, DefaultParamsReadable, DefaultParamsWritable):\n",
        "  @keyword_only\n",
        "  def __init__(self, input_col=None, output_col=None):\n",
        "    super(CustomTransfomer, self).__init__()\n",
        "    #self._setDefault(input_col=None, output_col=None)\n",
        "    kwargs = self._input_kwargs\n",
        "    self.set_params(**kwargs)\n",
        "  \n",
        "  @keyword_only\n",
        "  def set_params(self, input_col=None, output_col=None):\n",
        "    kwargs = self._input_kwargs\n",
        "    self._set(**kwargs)\n",
        "  \n",
        "  def _transform(self, df):\n",
        "    # The custom action: concatenate the integer form of the doubles from the Vector\n",
        "    df = df.replace(float('nan'), None)\n",
        "    df = df.na.drop(subset=[\"dropoff_longitude\", \"dropoff_latitude\"])\n",
        "    udf_havershine_distance = udf(havershine_distance, DoubleType())\n",
        "    df = df.withColumn(\"havershine_distance\", udf_havershine_distance(\"pickup_latitude\", \"pickup_longitude\", \"dropoff_latitude\", \"dropoff_longitude\"))\n",
        "    udf_bearing = udf(bearing_array, DoubleType())\n",
        "    df = df.withColumn(\"bearing\", udf_bearing(df[\"pickup_latitude\"], df[\"pickup_longitude\"], df[\"dropoff_latitude\"], df[\"dropoff_longitude\"]))\n",
        "    df.createOrReplaceTempView(\"ny_taxi_features\")\n",
        "    rqt = \"select \" +\\\n",
        "          \"cast(date_format(nt.pickup_datetime, 'd') as integer) as pickup_day, \" +\\\n",
        "          \"cast(date_format(nt.pickup_datetime, 'M') as integer) as pickup_month, \" +\\\n",
        "          \"cast(date_format(nt.pickup_datetime, 'y') as integer) as pickup_year, \" +\\\n",
        "          \"cast(date_format(nt.pickup_datetime, 'H') as integer) as pickup_hour, \" +\\\n",
        "          \"cast(date_format(nt.pickup_datetime, 'm') as integer) as pickup_minute, \" +\\\n",
        "          \"cast(dayofweek(nt.pickup_datetime) as integer) as pickup_day_of_week, \" +\\\n",
        "          \"nt.passenger_count as passenger_count, \" +\\\n",
        "          \"nt.havershine_distance as havershine_distance, \" +\\\n",
        "          \"nt.bearing as bearing, \" +\\\n",
        "          \"nt.fare_amount as fare_amount \" +\\\n",
        "          \"from ny_taxi_features nt \" +\\\n",
        "          \"where nt.fare_amount>0\" \n",
        "    df = spark.sql(rqt)\n",
        "    #df = df.drop(\"key\", \"pickup_datetime\", \"pickup_longitude\", \"pickup_latitude\", \"dropoff_longitude\", \"dropoff_latitude\")\n",
        "    return df"
      ],
      "execution_count": 21,
      "outputs": []
    },
    {
      "cell_type": "code",
      "metadata": {
        "id": "1SRtVzME8Aht",
        "outputId": "698e8d8e-ade5-4add-c352-277769df99bf",
        "colab": {
          "base_uri": "https://localhost:8080/"
        }
      },
      "source": [
        "from pyspark.ml import Pipeline\n",
        "from pyspark.ml.feature import VectorAssembler\n",
        "\n",
        "custom_transformer = CustomTransfomer()\n",
        "assemblerInputs = ['pickup_day',\n",
        " 'pickup_month',\n",
        " 'pickup_year',\n",
        " 'pickup_hour',\n",
        " 'pickup_minute',\n",
        " 'pickup_day_of_week',\n",
        " 'passenger_count',\n",
        " 'havershine_distance',\n",
        " 'bearing']\n",
        "assembler = VectorAssembler(inputCols=assemblerInputs, outputCol=\"features\", handleInvalid=\"skip\")\n",
        "pipeline = Pipeline(stages=[custom_transformer, assembler])\n",
        "result = pipeline.fit(df).transform(df)\n",
        "result.show()"
      ],
      "execution_count": 23,
      "outputs": [
        {
          "output_type": "stream",
          "text": [
            "+----------+------------+-----------+-----------+-------------+------------------+---------------+-------------------+---------+-----------+--------------------+\n",
            "|pickup_day|pickup_month|pickup_year|pickup_hour|pickup_minute|pickup_day_of_week|passenger_count|havershine_distance|  bearing|fare_amount|            features|\n",
            "+----------+------------+-----------+-----------+-------------+------------------+---------------+-------------------+---------+-----------+--------------------+\n",
            "|        15|           6|       2009|         17|           26|                 2|              1|            10.0557| 167.2405|        4.5|[15.0,6.0,2009.0,...|\n",
            "|         5|           1|       2010|         16|           52|                 3|              1|             78.677|  21.4984|       16.9|[5.0,1.0,2010.0,1...|\n",
            "|        18|           8|       2011|          0|           35|                 5|              2|            11.9283|-148.9668|        5.7|[18.0,8.0,2011.0,...|\n",
            "|        21|           4|       2012|          4|           30|                 7|              1|            27.7445|  -7.6722|        7.7|[21.0,4.0,2012.0,...|\n",
            "|         9|           3|       2010|          7|           51|                 3|              1|            17.5441|  28.8028|        5.3|[9.0,3.0,2010.0,7...|\n",
            "|         6|           1|       2011|          9|           50|                 5|              1|            29.6756|  38.6317|       12.1|[6.0,1.0,2011.0,9...|\n",
            "|        20|          11|       2012|         20|           35|                 3|              1|            14.6648|  19.6101|        7.5|[20.0,11.0,2012.0...|\n",
            "|         4|           1|       2012|         17|           22|                 4|              1|             25.882|-128.1475|       16.5|[4.0,1.0,2012.0,1...|\n",
            "|         3|          12|       2012|         13|           10|                 2|              1|             5.5804|  64.1409|        9.0|[3.0,12.0,2012.0,...|\n",
            "|         2|           9|       2009|          1|           11|                 4|              2|             26.997| -18.7622|        8.9|[2.0,9.0,2009.0,1...|\n",
            "|         8|           4|       2012|          7|           30|                 1|              1|             4.1957| 106.8435|        5.3|[8.0,4.0,2012.0,7...|\n",
            "|        24|          12|       2012|         11|           24|                 2|              3|                0.0|      0.0|        5.5|[24.0,12.0,2012.0...|\n",
            "|         6|          11|       2009|          1|            4|                 6|              2|             0.7185|  90.2635|        4.1|[6.0,11.0,2009.0,...|\n",
            "|         2|           7|       2013|         19|           54|                 3|              1|            19.9729|-171.4717|        7.0|[2.0,7.0,2013.0,1...|\n",
            "|         5|           4|       2011|         17|           11|                 3|              2|            16.4143| 169.0691|        7.7|[5.0,4.0,2011.0,1...|\n",
            "|        23|          11|       2013|         12|           57|                 7|              1|                0.0|      0.0|        5.0|[23.0,11.0,2013.0...|\n",
            "|        19|           2|       2014|          7|           22|                 4|              1|            26.0094|-175.2593|       12.5|[19.0,2.0,2014.0,...|\n",
            "|        22|           7|       2009|         16|            8|                 4|              1|            10.3757|-133.0242|        5.3|[22.0,7.0,2009.0,...|\n",
            "|         7|           7|       2010|         14|           52|                 4|              1|             1.8849|  100.321|        5.3|[7.0,7.0,2010.0,1...|\n",
            "|         6|          12|       2014|         20|           36|                 7|              1|             3.9798|   4.4657|        4.0|[6.0,12.0,2014.0,...|\n",
            "+----------+------------+-----------+-----------+-------------+------------------+---------------+-------------------+---------+-----------+--------------------+\n",
            "only showing top 20 rows\n",
            "\n"
          ],
          "name": "stdout"
        }
      ]
    },
    {
      "cell_type": "code",
      "metadata": {
        "id": "tgKXSpvlGPh8",
        "outputId": "ca89f308-3619-40c5-a028-2c4a69e5835a",
        "colab": {
          "base_uri": "https://localhost:8080/"
        }
      },
      "source": [
        "dataset = result.select([\"features\", \"fare_amount\"])\n",
        "dataset.show()"
      ],
      "execution_count": 24,
      "outputs": [
        {
          "output_type": "stream",
          "text": [
            "+--------------------+-----------+\n",
            "|            features|fare_amount|\n",
            "+--------------------+-----------+\n",
            "|[15.0,6.0,2009.0,...|        4.5|\n",
            "|[5.0,1.0,2010.0,1...|       16.9|\n",
            "|[18.0,8.0,2011.0,...|        5.7|\n",
            "|[21.0,4.0,2012.0,...|        7.7|\n",
            "|[9.0,3.0,2010.0,7...|        5.3|\n",
            "|[6.0,1.0,2011.0,9...|       12.1|\n",
            "|[20.0,11.0,2012.0...|        7.5|\n",
            "|[4.0,1.0,2012.0,1...|       16.5|\n",
            "|[3.0,12.0,2012.0,...|        9.0|\n",
            "|[2.0,9.0,2009.0,1...|        8.9|\n",
            "|[8.0,4.0,2012.0,7...|        5.3|\n",
            "|[24.0,12.0,2012.0...|        5.5|\n",
            "|[6.0,11.0,2009.0,...|        4.1|\n",
            "|[2.0,7.0,2013.0,1...|        7.0|\n",
            "|[5.0,4.0,2011.0,1...|        7.7|\n",
            "|[23.0,11.0,2013.0...|        5.0|\n",
            "|[19.0,2.0,2014.0,...|       12.5|\n",
            "|[22.0,7.0,2009.0,...|        5.3|\n",
            "|[7.0,7.0,2010.0,1...|        5.3|\n",
            "|[6.0,12.0,2014.0,...|        4.0|\n",
            "+--------------------+-----------+\n",
            "only showing top 20 rows\n",
            "\n"
          ],
          "name": "stdout"
        }
      ]
    },
    {
      "cell_type": "code",
      "metadata": {
        "id": "in7aaUbSJd7Z"
      },
      "source": [
        "(trainingData, testData) = dataset.randomSplit([0.9, 0.1], seed=100)\n",
        "#print(trainingData.count())\n",
        "#print(testData.count())"
      ],
      "execution_count": 25,
      "outputs": []
    },
    {
      "cell_type": "code",
      "metadata": {
        "id": "IlAJKmdyC_kl",
        "outputId": "a3ced4bf-aa5b-4c39-81ed-052cc34eded7",
        "colab": {
          "base_uri": "https://localhost:8080/"
        }
      },
      "source": [
        "from pyspark.ml.regression import RandomForestRegressor\n",
        "\n",
        "rf = RandomForestRegressor(labelCol=\"fare_amount\" , featuresCol=\"features\")\n",
        "print(\"Training ...\")\n",
        "rfModel = rf.fit(trainingData)\n",
        "print(\"Predicting ...\")\n",
        "predictions = rfModel.transform(testData)"
      ],
      "execution_count": 26,
      "outputs": [
        {
          "output_type": "stream",
          "text": [
            "Training ...\n",
            "Predicting ...\n"
          ],
          "name": "stdout"
        }
      ]
    },
    {
      "cell_type": "code",
      "metadata": {
        "id": "0MkTLRroO4K6",
        "outputId": "d05e1ee0-8f77-418e-e856-4b903d087350",
        "colab": {
          "base_uri": "https://localhost:8080/"
        }
      },
      "source": [
        "predictions.show()"
      ],
      "execution_count": 27,
      "outputs": [
        {
          "output_type": "stream",
          "text": [
            "+--------------------+-----------+------------------+\n",
            "|            features|fare_amount|        prediction|\n",
            "+--------------------+-----------+------------------+\n",
            "|[1.0,1.0,2009.0,0...|        5.4| 8.270952766467454|\n",
            "|[1.0,1.0,2009.0,0...|       16.5|12.994154791079248|\n",
            "|[1.0,1.0,2009.0,0...|       11.0| 9.319723822463782|\n",
            "|[1.0,1.0,2009.0,1...|       10.6|13.287201202262267|\n",
            "|[1.0,1.0,2009.0,1...|       10.2| 11.80998768773447|\n",
            "|[1.0,1.0,2009.0,1...|        7.0| 9.796039630493459|\n",
            "|[1.0,1.0,2009.0,2...|        5.8| 8.161220743816106|\n",
            "|[1.0,1.0,2009.0,3...|       33.8|28.788450591496485|\n",
            "|[1.0,1.0,2009.0,4...|        6.5| 8.278858856134768|\n",
            "|[1.0,1.0,2009.0,4...|        7.4| 9.748221713047931|\n",
            "|[1.0,1.0,2009.0,7...|       28.9| 34.14710179752781|\n",
            "|[1.0,1.0,2009.0,7...|       28.9|12.018719787830548|\n",
            "|[1.0,1.0,2009.0,9...|        4.9| 8.097565029331747|\n",
            "|[1.0,1.0,2009.0,1...|        7.7|10.461699782474344|\n",
            "|[1.0,1.0,2009.0,1...|       10.1|11.008774807087303|\n",
            "|[1.0,1.0,2009.0,1...|       20.9|24.308060666454836|\n",
            "|[1.0,1.0,2009.0,1...|       16.1|13.119811666530472|\n",
            "|[1.0,1.0,2009.0,1...|        4.1|  8.08870924106791|\n",
            "|[1.0,1.0,2009.0,1...|        6.9| 9.441173145823893|\n",
            "|[1.0,1.0,2009.0,1...|        7.7| 9.314742835337716|\n",
            "+--------------------+-----------+------------------+\n",
            "only showing top 20 rows\n",
            "\n"
          ],
          "name": "stdout"
        }
      ]
    },
    {
      "cell_type": "code",
      "metadata": {
        "id": "PtmLUdBdBDNw",
        "outputId": "151de546-b11b-466c-b92f-5e9ae3ee70bb",
        "colab": {
          "base_uri": "https://localhost:8080/"
        }
      },
      "source": [
        "from pyspark.mllib.evaluation import RegressionMetrics\n",
        "metrics = RegressionMetrics(predictions.select(\"fare_amount\", \"prediction\").rdd.map(lambda x: (x.fare_amount, x.prediction) ))\n",
        "\n",
        "# Root mean squared error\n",
        "print(\"RMSE = %s\" % metrics.rootMeanSquaredError)\n",
        "# Mean absolute error\n",
        "print(\"MAE = %s\" % metrics.meanAbsoluteError)\n",
        "# R-squared\n",
        "print(\"R-squared = %s\" % metrics.r2)\n",
        "# Explained Variance\n",
        "print(\"Explained variance = %s\" % metrics.explainedVariance)"
      ],
      "execution_count": 28,
      "outputs": [
        {
          "output_type": "stream",
          "text": [
            "RMSE = 7.051743748097276\n",
            "MAE = 3.8748460254197985\n",
            "R-squared = -0.5503243141210941\n",
            "Explained variance = 95.711594748864\n"
          ],
          "name": "stdout"
        }
      ]
    },
    {
      "cell_type": "code",
      "metadata": {
        "id": "JdX_1MlwCvXb",
        "outputId": "c4b4a128-7549-423c-8f46-a09c1d0db971",
        "colab": {
          "base_uri": "https://localhost:8080/"
        }
      },
      "source": [
        "from pyspark.ml.evaluation import RegressionEvaluator\n",
        "eval = RegressionEvaluator(labelCol=\"fare_amount\", predictionCol=\"prediction\", metricName=\"rmse\")\n",
        "\n",
        "# Root Mean Square Error\n",
        "rmse = eval.evaluate(predictions)\n",
        "print(\"RMSE: %.3f\" % rmse)\n",
        "\n",
        "# Mean Square Error\n",
        "mse = eval.evaluate(predictions, {eval.metricName: \"mse\"})\n",
        "print(\"MSE: %.3f\" % mse)\n",
        "\n",
        "# Mean Absolute Error\n",
        "mae = eval.evaluate(predictions, {eval.metricName: \"mae\"})\n",
        "print(\"MAE: %.3f\" % mae)\n",
        "\n",
        "# r2 - coefficient of determination\n",
        "r2 = eval.evaluate(predictions, {eval.metricName: \"r2\"})\n",
        "print(\"r2: %.3f\" %r2)\n",
        "\n"
      ],
      "execution_count": 29,
      "outputs": [
        {
          "output_type": "stream",
          "text": [
            "RMSE: 7.052\n",
            "MSE: 49.727\n",
            "MAE: 3.875\n",
            "r2: 0.480\n"
          ],
          "name": "stdout"
        }
      ]
    },
    {
      "cell_type": "code",
      "metadata": {
        "id": "s-AL9JTQfShB"
      },
      "source": [
        ""
      ],
      "execution_count": null,
      "outputs": []
    }
  ]
}